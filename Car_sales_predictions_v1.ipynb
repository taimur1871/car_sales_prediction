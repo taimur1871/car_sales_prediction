{
  "nbformat": 4,
  "nbformat_minor": 0,
  "metadata": {
    "kernelspec": {
      "display_name": "Python 3",
      "language": "python",
      "name": "python3"
    },
    "language_info": {
      "codemirror_mode": {
        "name": "ipython",
        "version": 3
      },
      "file_extension": ".py",
      "mimetype": "text/x-python",
      "name": "python",
      "nbconvert_exporter": "python",
      "pygments_lexer": "ipython3",
      "version": "3.8.5"
    },
    "colab": {
      "name": "Car_sales_predictions_v1.ipynb",
      "provenance": [],
      "collapsed_sections": [],
      "toc_visible": true,
      "include_colab_link": true
    }
  },
  "cells": [
    {
      "cell_type": "markdown",
      "metadata": {
        "id": "view-in-github",
        "colab_type": "text"
      },
      "source": [
        "<a href=\"https://colab.research.google.com/github/taimur1871/car_sales_prediction/blob/main/Car_sales_predictions_v1.ipynb\" target=\"_parent\"><img src=\"https://colab.research.google.com/assets/colab-badge.svg\" alt=\"Open In Colab\"/></a>"
      ]
    },
    {
      "cell_type": "markdown",
      "metadata": {
        "id": "lNnTTMT9dnM4"
      },
      "source": [
        "# Today you are a Data Scientist at Tesla! \n",
        "## You have assigned a new project to look at car sales from Quarters 1-2 in California for 2019 to make predictions as to which cars will be sold more than the others in Q3 and Q4, to ensure enough inventory to meet demands!"
      ]
    },
    {
      "cell_type": "markdown",
      "metadata": {
        "id": "AQqh5DMaq9QW"
      },
      "source": [
        "### If running this notebook in Google Colab, run the following cells first. Make sure you've placed the Q12 and Q34 sales data in the same Google Drive folder as this notebook."
      ]
    },
    {
      "cell_type": "code",
      "metadata": {
        "id": "8n75mujnrqU4"
      },
      "source": [
        "!pip install -U -q PyDrive\n",
        "from pydrive.auth import GoogleAuth\n",
        "from pydrive.drive import GoogleDrive\n",
        "from google.colab import auth\n",
        "from oauth2client.client import GoogleCredentials"
      ],
      "execution_count": 1,
      "outputs": []
    },
    {
      "cell_type": "code",
      "metadata": {
        "id": "HT1yuyN5zJ19"
      },
      "source": [
        "auth.authenticate_user()\n",
        "gauth = GoogleAuth()\n",
        "gauth.credentials = GoogleCredentials.get_application_default()\n",
        "drive = GoogleDrive(gauth)"
      ],
      "execution_count": null,
      "outputs": []
    },
    {
      "cell_type": "markdown",
      "metadata": {
        "id": "q6AR4c7ivMtD"
      },
      "source": [
        "Replace the ID with ID of file you want to access. To get this ID: \n",
        "\n",
        "1.   Right-click on the name of the appropriate file in your Google Drive\n",
        "2.   Click \"Get link\"\n",
        "3.   Copy the characters between `d/` and the following slash\n",
        "4.   Paste them into the dictionary argument of the call to `drive.CreateFile()` as the value associated with the 'id' key. Make sure that this value is a string.\n",
        "\n"
      ]
    },
    {
      "cell_type": "code",
      "metadata": {
        "id": "mb5xkL1QzPYg"
      },
      "source": [
        "# Replace the ID with ID of file you want to access\n",
        "Q12 = drive.CreateFile({'id':'1vpppIqAvvH8O44XEUEYlEk96clxbQEG7'}) \n",
        "Q12.GetContentFile('sales_Q12_2019.csv') \n",
        "Q34 = drive.CreateFile({'id':'1He76yUv5030l_qhugdhSOf3OjUEbrElI'}) \n",
        "Q34.GetContentFile('sales_Q34_2019.csv') "
      ],
      "execution_count": null,
      "outputs": []
    },
    {
      "cell_type": "markdown",
      "metadata": {
        "id": "OI6NP0JBdnM5"
      },
      "source": [
        "### Import the necessary modules"
      ]
    },
    {
      "cell_type": "code",
      "metadata": {
        "id": "WdNx3CHEdnM5"
      },
      "source": [
        "import os\n",
        "import tensorflow as tf\n",
        "from tensorboard.plugins import projector\n",
        "import numpy as np\n",
        "import pandas as pd\n",
        "import matplotlib.pyplot as plt\n",
        "import plotly.graph_objects as go"
      ],
      "execution_count": 3,
      "outputs": []
    },
    {
      "cell_type": "markdown",
      "metadata": {
        "id": "dM4fGT-ldnM8"
      },
      "source": [
        "### Read in the CSV file containing the California sales data for Quarters 1 and 2\n",
        "\n",
        "Then examine the data's shape and first few rows"
      ]
    },
    {
      "cell_type": "code",
      "metadata": {
        "id": "jj2l01M8dnM9",
        "outputId": "991bbe36-d3a2-4cb3-a876-ee86d0e8714c",
        "colab": {
          "base_uri": "https://localhost:8080/",
          "height": 326
        }
      },
      "source": [
        "df_sales = pd.read_csv(\"Sales_Q12_2019.csv\")\n",
        "print(df_sales.shape)\n",
        "df_sales.head()"
      ],
      "execution_count": 5,
      "outputs": [
        {
          "output_type": "stream",
          "text": [
            "(5837, 76)\n"
          ],
          "name": "stdout"
        },
        {
          "output_type": "execute_result",
          "data": {
            "text/html": [
              "<div>\n",
              "<style scoped>\n",
              "    .dataframe tbody tr th:only-of-type {\n",
              "        vertical-align: middle;\n",
              "    }\n",
              "\n",
              "    .dataframe tbody tr th {\n",
              "        vertical-align: top;\n",
              "    }\n",
              "\n",
              "    .dataframe thead th {\n",
              "        text-align: right;\n",
              "    }\n",
              "</style>\n",
              "<table border=\"1\" class=\"dataframe\">\n",
              "  <thead>\n",
              "    <tr style=\"text-align: right;\">\n",
              "      <th></th>\n",
              "      <th>main_S60_1</th>\n",
              "      <th>main_S60_2</th>\n",
              "      <th>main_type_SP100D</th>\n",
              "      <th>main_type_S60D_1</th>\n",
              "      <th>main_type_S60D_2</th>\n",
              "      <th>main_type_S70</th>\n",
              "      <th>main_type_S70D</th>\n",
              "      <th>main_type_S75</th>\n",
              "      <th>main_type_S75D</th>\n",
              "      <th>main_type_S80</th>\n",
              "      <th>main_type_S80D</th>\n",
              "      <th>main_type_S85</th>\n",
              "      <th>main_type_S85P</th>\n",
              "      <th>main_type_P85D</th>\n",
              "      <th>main_type_S90</th>\n",
              "      <th>main_type_S90D</th>\n",
              "      <th>main_type_S100D</th>\n",
              "      <th>engine_A</th>\n",
              "      <th>engine_B</th>\n",
              "      <th>engine_C</th>\n",
              "      <th>engine_D</th>\n",
              "      <th>engine_E</th>\n",
              "      <th>engine_F</th>\n",
              "      <th>engine_G</th>\n",
              "      <th>engine_H</th>\n",
              "      <th>engine_I</th>\n",
              "      <th>engine_J</th>\n",
              "      <th>engine_K</th>\n",
              "      <th>engine_L</th>\n",
              "      <th>engine_M</th>\n",
              "      <th>engine_N</th>\n",
              "      <th>engine_O</th>\n",
              "      <th>engine_P</th>\n",
              "      <th>engine_Q</th>\n",
              "      <th>engine_R</th>\n",
              "      <th>engine_S</th>\n",
              "      <th>engine_T</th>\n",
              "      <th>engine_U</th>\n",
              "      <th>engine_V</th>\n",
              "      <th>engine_W</th>\n",
              "      <th>engine_X</th>\n",
              "      <th>engine_Y</th>\n",
              "      <th>engine_Z</th>\n",
              "      <th>sales_1</th>\n",
              "      <th>sales_2</th>\n",
              "      <th>sales_3</th>\n",
              "      <th>sales_4</th>\n",
              "      <th>sales_5</th>\n",
              "      <th>sales_6</th>\n",
              "      <th>sales_7</th>\n",
              "      <th>sales_8</th>\n",
              "      <th>sales_9</th>\n",
              "      <th>sales_10</th>\n",
              "      <th>sales_11</th>\n",
              "      <th>sales_12</th>\n",
              "      <th>sales_13</th>\n",
              "      <th>sales_14</th>\n",
              "      <th>sales_15</th>\n",
              "      <th>sales_16</th>\n",
              "      <th>sales_17</th>\n",
              "      <th>sales_18</th>\n",
              "      <th>sales_19</th>\n",
              "      <th>sales_20</th>\n",
              "      <th>sales_21</th>\n",
              "      <th>sales_22</th>\n",
              "      <th>sales_23</th>\n",
              "      <th>sales_24</th>\n",
              "      <th>sales_25</th>\n",
              "      <th>sales_26</th>\n",
              "      <th>sales_27</th>\n",
              "      <th>sales_28</th>\n",
              "      <th>sales_29</th>\n",
              "      <th>sales_30</th>\n",
              "      <th>MSRP</th>\n",
              "      <th>dealer_state</th>\n",
              "      <th>date</th>\n",
              "    </tr>\n",
              "  </thead>\n",
              "  <tbody>\n",
              "    <tr>\n",
              "      <th>0</th>\n",
              "      <td>0</td>\n",
              "      <td>0</td>\n",
              "      <td>0</td>\n",
              "      <td>0</td>\n",
              "      <td>0</td>\n",
              "      <td>1</td>\n",
              "      <td>0</td>\n",
              "      <td>0</td>\n",
              "      <td>0</td>\n",
              "      <td>0</td>\n",
              "      <td>0</td>\n",
              "      <td>0</td>\n",
              "      <td>0</td>\n",
              "      <td>0</td>\n",
              "      <td>0</td>\n",
              "      <td>0</td>\n",
              "      <td>0</td>\n",
              "      <td>0</td>\n",
              "      <td>0</td>\n",
              "      <td>0</td>\n",
              "      <td>0</td>\n",
              "      <td>0</td>\n",
              "      <td>0</td>\n",
              "      <td>0</td>\n",
              "      <td>0</td>\n",
              "      <td>0</td>\n",
              "      <td>0</td>\n",
              "      <td>0</td>\n",
              "      <td>0</td>\n",
              "      <td>0</td>\n",
              "      <td>0</td>\n",
              "      <td>0</td>\n",
              "      <td>0</td>\n",
              "      <td>0</td>\n",
              "      <td>0</td>\n",
              "      <td>0</td>\n",
              "      <td>0</td>\n",
              "      <td>0</td>\n",
              "      <td>0</td>\n",
              "      <td>0</td>\n",
              "      <td>0</td>\n",
              "      <td>0</td>\n",
              "      <td>0</td>\n",
              "      <td>0</td>\n",
              "      <td>0</td>\n",
              "      <td>0</td>\n",
              "      <td>0</td>\n",
              "      <td>0</td>\n",
              "      <td>0</td>\n",
              "      <td>0</td>\n",
              "      <td>1</td>\n",
              "      <td>0</td>\n",
              "      <td>0</td>\n",
              "      <td>0</td>\n",
              "      <td>0</td>\n",
              "      <td>0</td>\n",
              "      <td>0</td>\n",
              "      <td>0</td>\n",
              "      <td>0</td>\n",
              "      <td>0</td>\n",
              "      <td>0</td>\n",
              "      <td>0</td>\n",
              "      <td>0</td>\n",
              "      <td>0</td>\n",
              "      <td>0</td>\n",
              "      <td>0</td>\n",
              "      <td>0</td>\n",
              "      <td>0</td>\n",
              "      <td>0</td>\n",
              "      <td>0</td>\n",
              "      <td>0</td>\n",
              "      <td>0</td>\n",
              "      <td>0</td>\n",
              "      <td>44610</td>\n",
              "      <td>California</td>\n",
              "      <td>2019-04-28</td>\n",
              "    </tr>\n",
              "    <tr>\n",
              "      <th>1</th>\n",
              "      <td>0</td>\n",
              "      <td>0</td>\n",
              "      <td>0</td>\n",
              "      <td>0</td>\n",
              "      <td>0</td>\n",
              "      <td>0</td>\n",
              "      <td>0</td>\n",
              "      <td>0</td>\n",
              "      <td>0</td>\n",
              "      <td>0</td>\n",
              "      <td>0</td>\n",
              "      <td>0</td>\n",
              "      <td>0</td>\n",
              "      <td>0</td>\n",
              "      <td>0</td>\n",
              "      <td>0</td>\n",
              "      <td>1</td>\n",
              "      <td>1</td>\n",
              "      <td>0</td>\n",
              "      <td>0</td>\n",
              "      <td>0</td>\n",
              "      <td>0</td>\n",
              "      <td>0</td>\n",
              "      <td>0</td>\n",
              "      <td>0</td>\n",
              "      <td>0</td>\n",
              "      <td>0</td>\n",
              "      <td>0</td>\n",
              "      <td>0</td>\n",
              "      <td>0</td>\n",
              "      <td>0</td>\n",
              "      <td>0</td>\n",
              "      <td>0</td>\n",
              "      <td>0</td>\n",
              "      <td>0</td>\n",
              "      <td>0</td>\n",
              "      <td>0</td>\n",
              "      <td>0</td>\n",
              "      <td>0</td>\n",
              "      <td>0</td>\n",
              "      <td>0</td>\n",
              "      <td>0</td>\n",
              "      <td>0</td>\n",
              "      <td>0</td>\n",
              "      <td>0</td>\n",
              "      <td>0</td>\n",
              "      <td>0</td>\n",
              "      <td>0</td>\n",
              "      <td>0</td>\n",
              "      <td>0</td>\n",
              "      <td>1</td>\n",
              "      <td>0</td>\n",
              "      <td>0</td>\n",
              "      <td>0</td>\n",
              "      <td>0</td>\n",
              "      <td>0</td>\n",
              "      <td>0</td>\n",
              "      <td>0</td>\n",
              "      <td>0</td>\n",
              "      <td>0</td>\n",
              "      <td>0</td>\n",
              "      <td>0</td>\n",
              "      <td>0</td>\n",
              "      <td>0</td>\n",
              "      <td>0</td>\n",
              "      <td>0</td>\n",
              "      <td>0</td>\n",
              "      <td>0</td>\n",
              "      <td>0</td>\n",
              "      <td>0</td>\n",
              "      <td>0</td>\n",
              "      <td>0</td>\n",
              "      <td>0</td>\n",
              "      <td>41505</td>\n",
              "      <td>California</td>\n",
              "      <td>2019-03-14</td>\n",
              "    </tr>\n",
              "    <tr>\n",
              "      <th>2</th>\n",
              "      <td>0</td>\n",
              "      <td>0</td>\n",
              "      <td>0</td>\n",
              "      <td>0</td>\n",
              "      <td>0</td>\n",
              "      <td>0</td>\n",
              "      <td>0</td>\n",
              "      <td>0</td>\n",
              "      <td>0</td>\n",
              "      <td>0</td>\n",
              "      <td>0</td>\n",
              "      <td>0</td>\n",
              "      <td>1</td>\n",
              "      <td>0</td>\n",
              "      <td>0</td>\n",
              "      <td>0</td>\n",
              "      <td>0</td>\n",
              "      <td>0</td>\n",
              "      <td>0</td>\n",
              "      <td>0</td>\n",
              "      <td>0</td>\n",
              "      <td>0</td>\n",
              "      <td>0</td>\n",
              "      <td>0</td>\n",
              "      <td>0</td>\n",
              "      <td>0</td>\n",
              "      <td>0</td>\n",
              "      <td>0</td>\n",
              "      <td>0</td>\n",
              "      <td>0</td>\n",
              "      <td>0</td>\n",
              "      <td>0</td>\n",
              "      <td>0</td>\n",
              "      <td>1</td>\n",
              "      <td>0</td>\n",
              "      <td>0</td>\n",
              "      <td>0</td>\n",
              "      <td>0</td>\n",
              "      <td>0</td>\n",
              "      <td>0</td>\n",
              "      <td>0</td>\n",
              "      <td>0</td>\n",
              "      <td>0</td>\n",
              "      <td>0</td>\n",
              "      <td>0</td>\n",
              "      <td>0</td>\n",
              "      <td>0</td>\n",
              "      <td>0</td>\n",
              "      <td>0</td>\n",
              "      <td>1</td>\n",
              "      <td>0</td>\n",
              "      <td>0</td>\n",
              "      <td>0</td>\n",
              "      <td>0</td>\n",
              "      <td>0</td>\n",
              "      <td>0</td>\n",
              "      <td>0</td>\n",
              "      <td>0</td>\n",
              "      <td>0</td>\n",
              "      <td>0</td>\n",
              "      <td>0</td>\n",
              "      <td>0</td>\n",
              "      <td>0</td>\n",
              "      <td>0</td>\n",
              "      <td>0</td>\n",
              "      <td>0</td>\n",
              "      <td>0</td>\n",
              "      <td>0</td>\n",
              "      <td>0</td>\n",
              "      <td>0</td>\n",
              "      <td>0</td>\n",
              "      <td>0</td>\n",
              "      <td>0</td>\n",
              "      <td>58890</td>\n",
              "      <td>California</td>\n",
              "      <td>2019-06-12</td>\n",
              "    </tr>\n",
              "    <tr>\n",
              "      <th>3</th>\n",
              "      <td>0</td>\n",
              "      <td>0</td>\n",
              "      <td>0</td>\n",
              "      <td>0</td>\n",
              "      <td>0</td>\n",
              "      <td>0</td>\n",
              "      <td>0</td>\n",
              "      <td>0</td>\n",
              "      <td>0</td>\n",
              "      <td>0</td>\n",
              "      <td>0</td>\n",
              "      <td>0</td>\n",
              "      <td>1</td>\n",
              "      <td>0</td>\n",
              "      <td>0</td>\n",
              "      <td>0</td>\n",
              "      <td>0</td>\n",
              "      <td>0</td>\n",
              "      <td>0</td>\n",
              "      <td>0</td>\n",
              "      <td>0</td>\n",
              "      <td>0</td>\n",
              "      <td>0</td>\n",
              "      <td>0</td>\n",
              "      <td>0</td>\n",
              "      <td>0</td>\n",
              "      <td>0</td>\n",
              "      <td>0</td>\n",
              "      <td>0</td>\n",
              "      <td>0</td>\n",
              "      <td>0</td>\n",
              "      <td>0</td>\n",
              "      <td>0</td>\n",
              "      <td>0</td>\n",
              "      <td>0</td>\n",
              "      <td>0</td>\n",
              "      <td>0</td>\n",
              "      <td>0</td>\n",
              "      <td>0</td>\n",
              "      <td>0</td>\n",
              "      <td>0</td>\n",
              "      <td>0</td>\n",
              "      <td>0</td>\n",
              "      <td>0</td>\n",
              "      <td>0</td>\n",
              "      <td>0</td>\n",
              "      <td>0</td>\n",
              "      <td>0</td>\n",
              "      <td>0</td>\n",
              "      <td>0</td>\n",
              "      <td>1</td>\n",
              "      <td>0</td>\n",
              "      <td>0</td>\n",
              "      <td>0</td>\n",
              "      <td>0</td>\n",
              "      <td>0</td>\n",
              "      <td>0</td>\n",
              "      <td>0</td>\n",
              "      <td>0</td>\n",
              "      <td>0</td>\n",
              "      <td>0</td>\n",
              "      <td>0</td>\n",
              "      <td>0</td>\n",
              "      <td>0</td>\n",
              "      <td>0</td>\n",
              "      <td>0</td>\n",
              "      <td>0</td>\n",
              "      <td>0</td>\n",
              "      <td>0</td>\n",
              "      <td>0</td>\n",
              "      <td>0</td>\n",
              "      <td>0</td>\n",
              "      <td>0</td>\n",
              "      <td>51055</td>\n",
              "      <td>California</td>\n",
              "      <td>2019-03-04</td>\n",
              "    </tr>\n",
              "    <tr>\n",
              "      <th>4</th>\n",
              "      <td>0</td>\n",
              "      <td>0</td>\n",
              "      <td>0</td>\n",
              "      <td>0</td>\n",
              "      <td>0</td>\n",
              "      <td>0</td>\n",
              "      <td>0</td>\n",
              "      <td>0</td>\n",
              "      <td>0</td>\n",
              "      <td>0</td>\n",
              "      <td>0</td>\n",
              "      <td>0</td>\n",
              "      <td>0</td>\n",
              "      <td>1</td>\n",
              "      <td>0</td>\n",
              "      <td>0</td>\n",
              "      <td>0</td>\n",
              "      <td>0</td>\n",
              "      <td>0</td>\n",
              "      <td>0</td>\n",
              "      <td>0</td>\n",
              "      <td>0</td>\n",
              "      <td>0</td>\n",
              "      <td>0</td>\n",
              "      <td>0</td>\n",
              "      <td>0</td>\n",
              "      <td>0</td>\n",
              "      <td>0</td>\n",
              "      <td>0</td>\n",
              "      <td>0</td>\n",
              "      <td>0</td>\n",
              "      <td>0</td>\n",
              "      <td>0</td>\n",
              "      <td>1</td>\n",
              "      <td>0</td>\n",
              "      <td>0</td>\n",
              "      <td>0</td>\n",
              "      <td>0</td>\n",
              "      <td>0</td>\n",
              "      <td>0</td>\n",
              "      <td>0</td>\n",
              "      <td>0</td>\n",
              "      <td>0</td>\n",
              "      <td>0</td>\n",
              "      <td>0</td>\n",
              "      <td>0</td>\n",
              "      <td>0</td>\n",
              "      <td>0</td>\n",
              "      <td>0</td>\n",
              "      <td>0</td>\n",
              "      <td>0</td>\n",
              "      <td>0</td>\n",
              "      <td>0</td>\n",
              "      <td>1</td>\n",
              "      <td>0</td>\n",
              "      <td>0</td>\n",
              "      <td>0</td>\n",
              "      <td>0</td>\n",
              "      <td>0</td>\n",
              "      <td>0</td>\n",
              "      <td>0</td>\n",
              "      <td>0</td>\n",
              "      <td>0</td>\n",
              "      <td>0</td>\n",
              "      <td>0</td>\n",
              "      <td>0</td>\n",
              "      <td>0</td>\n",
              "      <td>0</td>\n",
              "      <td>0</td>\n",
              "      <td>0</td>\n",
              "      <td>0</td>\n",
              "      <td>0</td>\n",
              "      <td>0</td>\n",
              "      <td>70830</td>\n",
              "      <td>California</td>\n",
              "      <td>2019-01-23</td>\n",
              "    </tr>\n",
              "  </tbody>\n",
              "</table>\n",
              "</div>"
            ],
            "text/plain": [
              "   main_S60_1  main_S60_2  main_type_SP100D  ...   MSRP  dealer_state        date\n",
              "0           0           0                 0  ...  44610    California  2019-04-28\n",
              "1           0           0                 0  ...  41505    California  2019-03-14\n",
              "2           0           0                 0  ...  58890    California  2019-06-12\n",
              "3           0           0                 0  ...  51055    California  2019-03-04\n",
              "4           0           0                 0  ...  70830    California  2019-01-23\n",
              "\n",
              "[5 rows x 76 columns]"
            ]
          },
          "metadata": {
            "tags": []
          },
          "execution_count": 5
        }
      ]
    },
    {
      "cell_type": "markdown",
      "metadata": {
        "id": "dF7w0UQndnM_"
      },
      "source": [
        "### Begin cleaning the data\n",
        "\n",
        "Eliminate the `'dealer_state'` and `'date'` columns. The former is useless to our model, since we already know that our dataset is restricted to California sales. While we could possibly extract useful information from the `'date'` column (for example, to determine whether more cars are sold on weekends than weekdays), we'll be focusing on car configurations in this exercise."
      ]
    },
    {
      "cell_type": "code",
      "metadata": {
        "id": "i-DThsrHdnNA",
        "outputId": "9f28caa5-62f5-44fb-ec3e-9e51dfebbb12",
        "colab": {
          "base_uri": "https://localhost:8080/",
          "height": 224
        }
      },
      "source": [
        "df_sales = df_sales.drop(columns=['dealer_state','date'])\n",
        "df_sales.head()"
      ],
      "execution_count": 6,
      "outputs": [
        {
          "output_type": "execute_result",
          "data": {
            "text/html": [
              "<div>\n",
              "<style scoped>\n",
              "    .dataframe tbody tr th:only-of-type {\n",
              "        vertical-align: middle;\n",
              "    }\n",
              "\n",
              "    .dataframe tbody tr th {\n",
              "        vertical-align: top;\n",
              "    }\n",
              "\n",
              "    .dataframe thead th {\n",
              "        text-align: right;\n",
              "    }\n",
              "</style>\n",
              "<table border=\"1\" class=\"dataframe\">\n",
              "  <thead>\n",
              "    <tr style=\"text-align: right;\">\n",
              "      <th></th>\n",
              "      <th>main_S60_1</th>\n",
              "      <th>main_S60_2</th>\n",
              "      <th>main_type_SP100D</th>\n",
              "      <th>main_type_S60D_1</th>\n",
              "      <th>main_type_S60D_2</th>\n",
              "      <th>main_type_S70</th>\n",
              "      <th>main_type_S70D</th>\n",
              "      <th>main_type_S75</th>\n",
              "      <th>main_type_S75D</th>\n",
              "      <th>main_type_S80</th>\n",
              "      <th>main_type_S80D</th>\n",
              "      <th>main_type_S85</th>\n",
              "      <th>main_type_S85P</th>\n",
              "      <th>main_type_P85D</th>\n",
              "      <th>main_type_S90</th>\n",
              "      <th>main_type_S90D</th>\n",
              "      <th>main_type_S100D</th>\n",
              "      <th>engine_A</th>\n",
              "      <th>engine_B</th>\n",
              "      <th>engine_C</th>\n",
              "      <th>engine_D</th>\n",
              "      <th>engine_E</th>\n",
              "      <th>engine_F</th>\n",
              "      <th>engine_G</th>\n",
              "      <th>engine_H</th>\n",
              "      <th>engine_I</th>\n",
              "      <th>engine_J</th>\n",
              "      <th>engine_K</th>\n",
              "      <th>engine_L</th>\n",
              "      <th>engine_M</th>\n",
              "      <th>engine_N</th>\n",
              "      <th>engine_O</th>\n",
              "      <th>engine_P</th>\n",
              "      <th>engine_Q</th>\n",
              "      <th>engine_R</th>\n",
              "      <th>engine_S</th>\n",
              "      <th>engine_T</th>\n",
              "      <th>engine_U</th>\n",
              "      <th>engine_V</th>\n",
              "      <th>engine_W</th>\n",
              "      <th>engine_X</th>\n",
              "      <th>engine_Y</th>\n",
              "      <th>engine_Z</th>\n",
              "      <th>sales_1</th>\n",
              "      <th>sales_2</th>\n",
              "      <th>sales_3</th>\n",
              "      <th>sales_4</th>\n",
              "      <th>sales_5</th>\n",
              "      <th>sales_6</th>\n",
              "      <th>sales_7</th>\n",
              "      <th>sales_8</th>\n",
              "      <th>sales_9</th>\n",
              "      <th>sales_10</th>\n",
              "      <th>sales_11</th>\n",
              "      <th>sales_12</th>\n",
              "      <th>sales_13</th>\n",
              "      <th>sales_14</th>\n",
              "      <th>sales_15</th>\n",
              "      <th>sales_16</th>\n",
              "      <th>sales_17</th>\n",
              "      <th>sales_18</th>\n",
              "      <th>sales_19</th>\n",
              "      <th>sales_20</th>\n",
              "      <th>sales_21</th>\n",
              "      <th>sales_22</th>\n",
              "      <th>sales_23</th>\n",
              "      <th>sales_24</th>\n",
              "      <th>sales_25</th>\n",
              "      <th>sales_26</th>\n",
              "      <th>sales_27</th>\n",
              "      <th>sales_28</th>\n",
              "      <th>sales_29</th>\n",
              "      <th>sales_30</th>\n",
              "      <th>MSRP</th>\n",
              "    </tr>\n",
              "  </thead>\n",
              "  <tbody>\n",
              "    <tr>\n",
              "      <th>0</th>\n",
              "      <td>0</td>\n",
              "      <td>0</td>\n",
              "      <td>0</td>\n",
              "      <td>0</td>\n",
              "      <td>0</td>\n",
              "      <td>1</td>\n",
              "      <td>0</td>\n",
              "      <td>0</td>\n",
              "      <td>0</td>\n",
              "      <td>0</td>\n",
              "      <td>0</td>\n",
              "      <td>0</td>\n",
              "      <td>0</td>\n",
              "      <td>0</td>\n",
              "      <td>0</td>\n",
              "      <td>0</td>\n",
              "      <td>0</td>\n",
              "      <td>0</td>\n",
              "      <td>0</td>\n",
              "      <td>0</td>\n",
              "      <td>0</td>\n",
              "      <td>0</td>\n",
              "      <td>0</td>\n",
              "      <td>0</td>\n",
              "      <td>0</td>\n",
              "      <td>0</td>\n",
              "      <td>0</td>\n",
              "      <td>0</td>\n",
              "      <td>0</td>\n",
              "      <td>0</td>\n",
              "      <td>0</td>\n",
              "      <td>0</td>\n",
              "      <td>0</td>\n",
              "      <td>0</td>\n",
              "      <td>0</td>\n",
              "      <td>0</td>\n",
              "      <td>0</td>\n",
              "      <td>0</td>\n",
              "      <td>0</td>\n",
              "      <td>0</td>\n",
              "      <td>0</td>\n",
              "      <td>0</td>\n",
              "      <td>0</td>\n",
              "      <td>0</td>\n",
              "      <td>0</td>\n",
              "      <td>0</td>\n",
              "      <td>0</td>\n",
              "      <td>0</td>\n",
              "      <td>0</td>\n",
              "      <td>0</td>\n",
              "      <td>1</td>\n",
              "      <td>0</td>\n",
              "      <td>0</td>\n",
              "      <td>0</td>\n",
              "      <td>0</td>\n",
              "      <td>0</td>\n",
              "      <td>0</td>\n",
              "      <td>0</td>\n",
              "      <td>0</td>\n",
              "      <td>0</td>\n",
              "      <td>0</td>\n",
              "      <td>0</td>\n",
              "      <td>0</td>\n",
              "      <td>0</td>\n",
              "      <td>0</td>\n",
              "      <td>0</td>\n",
              "      <td>0</td>\n",
              "      <td>0</td>\n",
              "      <td>0</td>\n",
              "      <td>0</td>\n",
              "      <td>0</td>\n",
              "      <td>0</td>\n",
              "      <td>0</td>\n",
              "      <td>44610</td>\n",
              "    </tr>\n",
              "    <tr>\n",
              "      <th>1</th>\n",
              "      <td>0</td>\n",
              "      <td>0</td>\n",
              "      <td>0</td>\n",
              "      <td>0</td>\n",
              "      <td>0</td>\n",
              "      <td>0</td>\n",
              "      <td>0</td>\n",
              "      <td>0</td>\n",
              "      <td>0</td>\n",
              "      <td>0</td>\n",
              "      <td>0</td>\n",
              "      <td>0</td>\n",
              "      <td>0</td>\n",
              "      <td>0</td>\n",
              "      <td>0</td>\n",
              "      <td>0</td>\n",
              "      <td>1</td>\n",
              "      <td>1</td>\n",
              "      <td>0</td>\n",
              "      <td>0</td>\n",
              "      <td>0</td>\n",
              "      <td>0</td>\n",
              "      <td>0</td>\n",
              "      <td>0</td>\n",
              "      <td>0</td>\n",
              "      <td>0</td>\n",
              "      <td>0</td>\n",
              "      <td>0</td>\n",
              "      <td>0</td>\n",
              "      <td>0</td>\n",
              "      <td>0</td>\n",
              "      <td>0</td>\n",
              "      <td>0</td>\n",
              "      <td>0</td>\n",
              "      <td>0</td>\n",
              "      <td>0</td>\n",
              "      <td>0</td>\n",
              "      <td>0</td>\n",
              "      <td>0</td>\n",
              "      <td>0</td>\n",
              "      <td>0</td>\n",
              "      <td>0</td>\n",
              "      <td>0</td>\n",
              "      <td>0</td>\n",
              "      <td>0</td>\n",
              "      <td>0</td>\n",
              "      <td>0</td>\n",
              "      <td>0</td>\n",
              "      <td>0</td>\n",
              "      <td>0</td>\n",
              "      <td>1</td>\n",
              "      <td>0</td>\n",
              "      <td>0</td>\n",
              "      <td>0</td>\n",
              "      <td>0</td>\n",
              "      <td>0</td>\n",
              "      <td>0</td>\n",
              "      <td>0</td>\n",
              "      <td>0</td>\n",
              "      <td>0</td>\n",
              "      <td>0</td>\n",
              "      <td>0</td>\n",
              "      <td>0</td>\n",
              "      <td>0</td>\n",
              "      <td>0</td>\n",
              "      <td>0</td>\n",
              "      <td>0</td>\n",
              "      <td>0</td>\n",
              "      <td>0</td>\n",
              "      <td>0</td>\n",
              "      <td>0</td>\n",
              "      <td>0</td>\n",
              "      <td>0</td>\n",
              "      <td>41505</td>\n",
              "    </tr>\n",
              "    <tr>\n",
              "      <th>2</th>\n",
              "      <td>0</td>\n",
              "      <td>0</td>\n",
              "      <td>0</td>\n",
              "      <td>0</td>\n",
              "      <td>0</td>\n",
              "      <td>0</td>\n",
              "      <td>0</td>\n",
              "      <td>0</td>\n",
              "      <td>0</td>\n",
              "      <td>0</td>\n",
              "      <td>0</td>\n",
              "      <td>0</td>\n",
              "      <td>1</td>\n",
              "      <td>0</td>\n",
              "      <td>0</td>\n",
              "      <td>0</td>\n",
              "      <td>0</td>\n",
              "      <td>0</td>\n",
              "      <td>0</td>\n",
              "      <td>0</td>\n",
              "      <td>0</td>\n",
              "      <td>0</td>\n",
              "      <td>0</td>\n",
              "      <td>0</td>\n",
              "      <td>0</td>\n",
              "      <td>0</td>\n",
              "      <td>0</td>\n",
              "      <td>0</td>\n",
              "      <td>0</td>\n",
              "      <td>0</td>\n",
              "      <td>0</td>\n",
              "      <td>0</td>\n",
              "      <td>0</td>\n",
              "      <td>1</td>\n",
              "      <td>0</td>\n",
              "      <td>0</td>\n",
              "      <td>0</td>\n",
              "      <td>0</td>\n",
              "      <td>0</td>\n",
              "      <td>0</td>\n",
              "      <td>0</td>\n",
              "      <td>0</td>\n",
              "      <td>0</td>\n",
              "      <td>0</td>\n",
              "      <td>0</td>\n",
              "      <td>0</td>\n",
              "      <td>0</td>\n",
              "      <td>0</td>\n",
              "      <td>0</td>\n",
              "      <td>1</td>\n",
              "      <td>0</td>\n",
              "      <td>0</td>\n",
              "      <td>0</td>\n",
              "      <td>0</td>\n",
              "      <td>0</td>\n",
              "      <td>0</td>\n",
              "      <td>0</td>\n",
              "      <td>0</td>\n",
              "      <td>0</td>\n",
              "      <td>0</td>\n",
              "      <td>0</td>\n",
              "      <td>0</td>\n",
              "      <td>0</td>\n",
              "      <td>0</td>\n",
              "      <td>0</td>\n",
              "      <td>0</td>\n",
              "      <td>0</td>\n",
              "      <td>0</td>\n",
              "      <td>0</td>\n",
              "      <td>0</td>\n",
              "      <td>0</td>\n",
              "      <td>0</td>\n",
              "      <td>0</td>\n",
              "      <td>58890</td>\n",
              "    </tr>\n",
              "    <tr>\n",
              "      <th>3</th>\n",
              "      <td>0</td>\n",
              "      <td>0</td>\n",
              "      <td>0</td>\n",
              "      <td>0</td>\n",
              "      <td>0</td>\n",
              "      <td>0</td>\n",
              "      <td>0</td>\n",
              "      <td>0</td>\n",
              "      <td>0</td>\n",
              "      <td>0</td>\n",
              "      <td>0</td>\n",
              "      <td>0</td>\n",
              "      <td>1</td>\n",
              "      <td>0</td>\n",
              "      <td>0</td>\n",
              "      <td>0</td>\n",
              "      <td>0</td>\n",
              "      <td>0</td>\n",
              "      <td>0</td>\n",
              "      <td>0</td>\n",
              "      <td>0</td>\n",
              "      <td>0</td>\n",
              "      <td>0</td>\n",
              "      <td>0</td>\n",
              "      <td>0</td>\n",
              "      <td>0</td>\n",
              "      <td>0</td>\n",
              "      <td>0</td>\n",
              "      <td>0</td>\n",
              "      <td>0</td>\n",
              "      <td>0</td>\n",
              "      <td>0</td>\n",
              "      <td>0</td>\n",
              "      <td>0</td>\n",
              "      <td>0</td>\n",
              "      <td>0</td>\n",
              "      <td>0</td>\n",
              "      <td>0</td>\n",
              "      <td>0</td>\n",
              "      <td>0</td>\n",
              "      <td>0</td>\n",
              "      <td>0</td>\n",
              "      <td>0</td>\n",
              "      <td>0</td>\n",
              "      <td>0</td>\n",
              "      <td>0</td>\n",
              "      <td>0</td>\n",
              "      <td>0</td>\n",
              "      <td>0</td>\n",
              "      <td>0</td>\n",
              "      <td>1</td>\n",
              "      <td>0</td>\n",
              "      <td>0</td>\n",
              "      <td>0</td>\n",
              "      <td>0</td>\n",
              "      <td>0</td>\n",
              "      <td>0</td>\n",
              "      <td>0</td>\n",
              "      <td>0</td>\n",
              "      <td>0</td>\n",
              "      <td>0</td>\n",
              "      <td>0</td>\n",
              "      <td>0</td>\n",
              "      <td>0</td>\n",
              "      <td>0</td>\n",
              "      <td>0</td>\n",
              "      <td>0</td>\n",
              "      <td>0</td>\n",
              "      <td>0</td>\n",
              "      <td>0</td>\n",
              "      <td>0</td>\n",
              "      <td>0</td>\n",
              "      <td>0</td>\n",
              "      <td>51055</td>\n",
              "    </tr>\n",
              "    <tr>\n",
              "      <th>4</th>\n",
              "      <td>0</td>\n",
              "      <td>0</td>\n",
              "      <td>0</td>\n",
              "      <td>0</td>\n",
              "      <td>0</td>\n",
              "      <td>0</td>\n",
              "      <td>0</td>\n",
              "      <td>0</td>\n",
              "      <td>0</td>\n",
              "      <td>0</td>\n",
              "      <td>0</td>\n",
              "      <td>0</td>\n",
              "      <td>0</td>\n",
              "      <td>1</td>\n",
              "      <td>0</td>\n",
              "      <td>0</td>\n",
              "      <td>0</td>\n",
              "      <td>0</td>\n",
              "      <td>0</td>\n",
              "      <td>0</td>\n",
              "      <td>0</td>\n",
              "      <td>0</td>\n",
              "      <td>0</td>\n",
              "      <td>0</td>\n",
              "      <td>0</td>\n",
              "      <td>0</td>\n",
              "      <td>0</td>\n",
              "      <td>0</td>\n",
              "      <td>0</td>\n",
              "      <td>0</td>\n",
              "      <td>0</td>\n",
              "      <td>0</td>\n",
              "      <td>0</td>\n",
              "      <td>1</td>\n",
              "      <td>0</td>\n",
              "      <td>0</td>\n",
              "      <td>0</td>\n",
              "      <td>0</td>\n",
              "      <td>0</td>\n",
              "      <td>0</td>\n",
              "      <td>0</td>\n",
              "      <td>0</td>\n",
              "      <td>0</td>\n",
              "      <td>0</td>\n",
              "      <td>0</td>\n",
              "      <td>0</td>\n",
              "      <td>0</td>\n",
              "      <td>0</td>\n",
              "      <td>0</td>\n",
              "      <td>0</td>\n",
              "      <td>0</td>\n",
              "      <td>0</td>\n",
              "      <td>0</td>\n",
              "      <td>1</td>\n",
              "      <td>0</td>\n",
              "      <td>0</td>\n",
              "      <td>0</td>\n",
              "      <td>0</td>\n",
              "      <td>0</td>\n",
              "      <td>0</td>\n",
              "      <td>0</td>\n",
              "      <td>0</td>\n",
              "      <td>0</td>\n",
              "      <td>0</td>\n",
              "      <td>0</td>\n",
              "      <td>0</td>\n",
              "      <td>0</td>\n",
              "      <td>0</td>\n",
              "      <td>0</td>\n",
              "      <td>0</td>\n",
              "      <td>0</td>\n",
              "      <td>0</td>\n",
              "      <td>0</td>\n",
              "      <td>70830</td>\n",
              "    </tr>\n",
              "  </tbody>\n",
              "</table>\n",
              "</div>"
            ],
            "text/plain": [
              "   main_S60_1  main_S60_2  main_type_SP100D  ...  sales_29  sales_30   MSRP\n",
              "0           0           0                 0  ...         0         0  44610\n",
              "1           0           0                 0  ...         0         0  41505\n",
              "2           0           0                 0  ...         0         0  58890\n",
              "3           0           0                 0  ...         0         0  51055\n",
              "4           0           0                 0  ...         0         0  70830\n",
              "\n",
              "[5 rows x 74 columns]"
            ]
          },
          "metadata": {
            "tags": []
          },
          "execution_count": 6
        }
      ]
    },
    {
      "cell_type": "markdown",
      "metadata": {
        "id": "qqdkmnCodnNC"
      },
      "source": [
        "### Read in the CSV file containing the California sales data for Quarters 3 and 4\n",
        "\n",
        "The `'dealer_state'` and `'date'` columns have already been eliminated in this dataset, so you don't need to worry about them here. Examine the data's shape and first few rows."
      ]
    },
    {
      "cell_type": "code",
      "metadata": {
        "id": "bJpTgHxAdnND",
        "outputId": "a9e20d46-4580-4135-e474-fbbe8a02df85",
        "colab": {
          "base_uri": "https://localhost:8080/",
          "height": 241
        }
      },
      "source": [
        "### START CODE HERE ###\n",
        "# Read in the Q34 data\n",
        "df_pred = pd.read_csv('sales_Q34_2019.csv')\n",
        "# Print the shape of the data\n",
        "print(df_pred.shape)\n",
        "# Examine the first few rows of the data\n",
        "df_pred.head()\n",
        "### END CODE HERE ###"
      ],
      "execution_count": 8,
      "outputs": [
        {
          "output_type": "stream",
          "text": [
            "(6666, 74)\n"
          ],
          "name": "stdout"
        },
        {
          "output_type": "execute_result",
          "data": {
            "text/html": [
              "<div>\n",
              "<style scoped>\n",
              "    .dataframe tbody tr th:only-of-type {\n",
              "        vertical-align: middle;\n",
              "    }\n",
              "\n",
              "    .dataframe tbody tr th {\n",
              "        vertical-align: top;\n",
              "    }\n",
              "\n",
              "    .dataframe thead th {\n",
              "        text-align: right;\n",
              "    }\n",
              "</style>\n",
              "<table border=\"1\" class=\"dataframe\">\n",
              "  <thead>\n",
              "    <tr style=\"text-align: right;\">\n",
              "      <th></th>\n",
              "      <th>main_S60_1</th>\n",
              "      <th>main_S60_2</th>\n",
              "      <th>main_type_SP100D</th>\n",
              "      <th>main_type_S60D_1</th>\n",
              "      <th>main_type_S60D_2</th>\n",
              "      <th>main_type_S70</th>\n",
              "      <th>main_type_S70D</th>\n",
              "      <th>main_type_S75</th>\n",
              "      <th>main_type_S75D</th>\n",
              "      <th>main_type_S80</th>\n",
              "      <th>main_type_S80D</th>\n",
              "      <th>main_type_S85</th>\n",
              "      <th>main_type_S85P</th>\n",
              "      <th>main_type_P85D</th>\n",
              "      <th>main_type_S90</th>\n",
              "      <th>main_type_S90D</th>\n",
              "      <th>main_type_S100D</th>\n",
              "      <th>engine_A</th>\n",
              "      <th>engine_B</th>\n",
              "      <th>engine_C</th>\n",
              "      <th>engine_D</th>\n",
              "      <th>engine_E</th>\n",
              "      <th>engine_F</th>\n",
              "      <th>engine_G</th>\n",
              "      <th>engine_H</th>\n",
              "      <th>engine_I</th>\n",
              "      <th>engine_J</th>\n",
              "      <th>engine_K</th>\n",
              "      <th>engine_L</th>\n",
              "      <th>engine_M</th>\n",
              "      <th>engine_N</th>\n",
              "      <th>engine_O</th>\n",
              "      <th>engine_P</th>\n",
              "      <th>engine_Q</th>\n",
              "      <th>engine_R</th>\n",
              "      <th>engine_S</th>\n",
              "      <th>engine_T</th>\n",
              "      <th>engine_U</th>\n",
              "      <th>engine_V</th>\n",
              "      <th>engine_W</th>\n",
              "      <th>engine_X</th>\n",
              "      <th>engine_Y</th>\n",
              "      <th>engine_Z</th>\n",
              "      <th>sales_1</th>\n",
              "      <th>sales_2</th>\n",
              "      <th>sales_3</th>\n",
              "      <th>sales_4</th>\n",
              "      <th>sales_5</th>\n",
              "      <th>sales_6</th>\n",
              "      <th>sales_7</th>\n",
              "      <th>sales_8</th>\n",
              "      <th>sales_9</th>\n",
              "      <th>sales_10</th>\n",
              "      <th>sales_11</th>\n",
              "      <th>sales_12</th>\n",
              "      <th>sales_13</th>\n",
              "      <th>sales_14</th>\n",
              "      <th>sales_15</th>\n",
              "      <th>sales_16</th>\n",
              "      <th>sales_17</th>\n",
              "      <th>sales_18</th>\n",
              "      <th>sales_19</th>\n",
              "      <th>sales_20</th>\n",
              "      <th>sales_21</th>\n",
              "      <th>sales_22</th>\n",
              "      <th>sales_23</th>\n",
              "      <th>sales_24</th>\n",
              "      <th>sales_25</th>\n",
              "      <th>sales_26</th>\n",
              "      <th>sales_27</th>\n",
              "      <th>sales_28</th>\n",
              "      <th>sales_29</th>\n",
              "      <th>sales_30</th>\n",
              "      <th>MSRP</th>\n",
              "    </tr>\n",
              "  </thead>\n",
              "  <tbody>\n",
              "    <tr>\n",
              "      <th>0</th>\n",
              "      <td>0</td>\n",
              "      <td>0</td>\n",
              "      <td>0</td>\n",
              "      <td>0</td>\n",
              "      <td>0</td>\n",
              "      <td>1</td>\n",
              "      <td>0</td>\n",
              "      <td>0</td>\n",
              "      <td>0</td>\n",
              "      <td>0</td>\n",
              "      <td>0</td>\n",
              "      <td>0</td>\n",
              "      <td>0</td>\n",
              "      <td>0</td>\n",
              "      <td>0</td>\n",
              "      <td>0</td>\n",
              "      <td>0</td>\n",
              "      <td>0</td>\n",
              "      <td>0</td>\n",
              "      <td>0</td>\n",
              "      <td>0</td>\n",
              "      <td>0</td>\n",
              "      <td>0</td>\n",
              "      <td>0</td>\n",
              "      <td>0</td>\n",
              "      <td>0</td>\n",
              "      <td>0</td>\n",
              "      <td>0</td>\n",
              "      <td>0</td>\n",
              "      <td>0</td>\n",
              "      <td>0</td>\n",
              "      <td>0</td>\n",
              "      <td>0</td>\n",
              "      <td>1</td>\n",
              "      <td>0</td>\n",
              "      <td>0</td>\n",
              "      <td>0</td>\n",
              "      <td>0</td>\n",
              "      <td>0</td>\n",
              "      <td>0</td>\n",
              "      <td>0</td>\n",
              "      <td>0</td>\n",
              "      <td>0</td>\n",
              "      <td>0</td>\n",
              "      <td>0</td>\n",
              "      <td>0</td>\n",
              "      <td>0</td>\n",
              "      <td>0</td>\n",
              "      <td>0</td>\n",
              "      <td>0</td>\n",
              "      <td>0</td>\n",
              "      <td>0</td>\n",
              "      <td>0</td>\n",
              "      <td>0</td>\n",
              "      <td>0</td>\n",
              "      <td>0</td>\n",
              "      <td>0</td>\n",
              "      <td>0</td>\n",
              "      <td>0</td>\n",
              "      <td>0</td>\n",
              "      <td>0</td>\n",
              "      <td>0</td>\n",
              "      <td>0</td>\n",
              "      <td>0</td>\n",
              "      <td>0</td>\n",
              "      <td>0</td>\n",
              "      <td>1</td>\n",
              "      <td>0</td>\n",
              "      <td>0</td>\n",
              "      <td>0</td>\n",
              "      <td>0</td>\n",
              "      <td>0</td>\n",
              "      <td>0</td>\n",
              "      <td>51355</td>\n",
              "    </tr>\n",
              "    <tr>\n",
              "      <th>1</th>\n",
              "      <td>0</td>\n",
              "      <td>0</td>\n",
              "      <td>0</td>\n",
              "      <td>0</td>\n",
              "      <td>0</td>\n",
              "      <td>0</td>\n",
              "      <td>0</td>\n",
              "      <td>0</td>\n",
              "      <td>0</td>\n",
              "      <td>0</td>\n",
              "      <td>0</td>\n",
              "      <td>0</td>\n",
              "      <td>0</td>\n",
              "      <td>1</td>\n",
              "      <td>0</td>\n",
              "      <td>0</td>\n",
              "      <td>0</td>\n",
              "      <td>0</td>\n",
              "      <td>0</td>\n",
              "      <td>0</td>\n",
              "      <td>0</td>\n",
              "      <td>0</td>\n",
              "      <td>0</td>\n",
              "      <td>0</td>\n",
              "      <td>0</td>\n",
              "      <td>0</td>\n",
              "      <td>0</td>\n",
              "      <td>0</td>\n",
              "      <td>0</td>\n",
              "      <td>0</td>\n",
              "      <td>0</td>\n",
              "      <td>0</td>\n",
              "      <td>0</td>\n",
              "      <td>1</td>\n",
              "      <td>0</td>\n",
              "      <td>0</td>\n",
              "      <td>0</td>\n",
              "      <td>0</td>\n",
              "      <td>0</td>\n",
              "      <td>0</td>\n",
              "      <td>0</td>\n",
              "      <td>0</td>\n",
              "      <td>0</td>\n",
              "      <td>0</td>\n",
              "      <td>0</td>\n",
              "      <td>0</td>\n",
              "      <td>0</td>\n",
              "      <td>0</td>\n",
              "      <td>0</td>\n",
              "      <td>0</td>\n",
              "      <td>0</td>\n",
              "      <td>0</td>\n",
              "      <td>0</td>\n",
              "      <td>1</td>\n",
              "      <td>0</td>\n",
              "      <td>0</td>\n",
              "      <td>0</td>\n",
              "      <td>0</td>\n",
              "      <td>0</td>\n",
              "      <td>0</td>\n",
              "      <td>0</td>\n",
              "      <td>0</td>\n",
              "      <td>0</td>\n",
              "      <td>0</td>\n",
              "      <td>0</td>\n",
              "      <td>0</td>\n",
              "      <td>0</td>\n",
              "      <td>0</td>\n",
              "      <td>0</td>\n",
              "      <td>0</td>\n",
              "      <td>0</td>\n",
              "      <td>0</td>\n",
              "      <td>0</td>\n",
              "      <td>71580</td>\n",
              "    </tr>\n",
              "    <tr>\n",
              "      <th>2</th>\n",
              "      <td>0</td>\n",
              "      <td>0</td>\n",
              "      <td>0</td>\n",
              "      <td>0</td>\n",
              "      <td>0</td>\n",
              "      <td>0</td>\n",
              "      <td>0</td>\n",
              "      <td>0</td>\n",
              "      <td>0</td>\n",
              "      <td>0</td>\n",
              "      <td>0</td>\n",
              "      <td>0</td>\n",
              "      <td>0</td>\n",
              "      <td>1</td>\n",
              "      <td>0</td>\n",
              "      <td>0</td>\n",
              "      <td>0</td>\n",
              "      <td>0</td>\n",
              "      <td>0</td>\n",
              "      <td>0</td>\n",
              "      <td>0</td>\n",
              "      <td>0</td>\n",
              "      <td>0</td>\n",
              "      <td>0</td>\n",
              "      <td>0</td>\n",
              "      <td>0</td>\n",
              "      <td>0</td>\n",
              "      <td>0</td>\n",
              "      <td>0</td>\n",
              "      <td>0</td>\n",
              "      <td>0</td>\n",
              "      <td>0</td>\n",
              "      <td>0</td>\n",
              "      <td>1</td>\n",
              "      <td>0</td>\n",
              "      <td>0</td>\n",
              "      <td>0</td>\n",
              "      <td>0</td>\n",
              "      <td>0</td>\n",
              "      <td>0</td>\n",
              "      <td>0</td>\n",
              "      <td>0</td>\n",
              "      <td>0</td>\n",
              "      <td>0</td>\n",
              "      <td>0</td>\n",
              "      <td>0</td>\n",
              "      <td>0</td>\n",
              "      <td>0</td>\n",
              "      <td>0</td>\n",
              "      <td>0</td>\n",
              "      <td>0</td>\n",
              "      <td>0</td>\n",
              "      <td>0</td>\n",
              "      <td>1</td>\n",
              "      <td>0</td>\n",
              "      <td>0</td>\n",
              "      <td>0</td>\n",
              "      <td>0</td>\n",
              "      <td>0</td>\n",
              "      <td>0</td>\n",
              "      <td>0</td>\n",
              "      <td>0</td>\n",
              "      <td>0</td>\n",
              "      <td>0</td>\n",
              "      <td>0</td>\n",
              "      <td>0</td>\n",
              "      <td>0</td>\n",
              "      <td>0</td>\n",
              "      <td>0</td>\n",
              "      <td>0</td>\n",
              "      <td>0</td>\n",
              "      <td>0</td>\n",
              "      <td>0</td>\n",
              "      <td>66790</td>\n",
              "    </tr>\n",
              "    <tr>\n",
              "      <th>3</th>\n",
              "      <td>0</td>\n",
              "      <td>0</td>\n",
              "      <td>0</td>\n",
              "      <td>0</td>\n",
              "      <td>0</td>\n",
              "      <td>0</td>\n",
              "      <td>0</td>\n",
              "      <td>0</td>\n",
              "      <td>0</td>\n",
              "      <td>0</td>\n",
              "      <td>0</td>\n",
              "      <td>0</td>\n",
              "      <td>0</td>\n",
              "      <td>1</td>\n",
              "      <td>0</td>\n",
              "      <td>0</td>\n",
              "      <td>0</td>\n",
              "      <td>0</td>\n",
              "      <td>0</td>\n",
              "      <td>0</td>\n",
              "      <td>0</td>\n",
              "      <td>0</td>\n",
              "      <td>0</td>\n",
              "      <td>0</td>\n",
              "      <td>0</td>\n",
              "      <td>0</td>\n",
              "      <td>0</td>\n",
              "      <td>0</td>\n",
              "      <td>0</td>\n",
              "      <td>0</td>\n",
              "      <td>0</td>\n",
              "      <td>0</td>\n",
              "      <td>0</td>\n",
              "      <td>1</td>\n",
              "      <td>0</td>\n",
              "      <td>0</td>\n",
              "      <td>0</td>\n",
              "      <td>0</td>\n",
              "      <td>0</td>\n",
              "      <td>0</td>\n",
              "      <td>0</td>\n",
              "      <td>0</td>\n",
              "      <td>0</td>\n",
              "      <td>0</td>\n",
              "      <td>0</td>\n",
              "      <td>0</td>\n",
              "      <td>0</td>\n",
              "      <td>0</td>\n",
              "      <td>0</td>\n",
              "      <td>0</td>\n",
              "      <td>0</td>\n",
              "      <td>0</td>\n",
              "      <td>0</td>\n",
              "      <td>1</td>\n",
              "      <td>0</td>\n",
              "      <td>0</td>\n",
              "      <td>0</td>\n",
              "      <td>0</td>\n",
              "      <td>0</td>\n",
              "      <td>0</td>\n",
              "      <td>0</td>\n",
              "      <td>0</td>\n",
              "      <td>0</td>\n",
              "      <td>0</td>\n",
              "      <td>0</td>\n",
              "      <td>0</td>\n",
              "      <td>0</td>\n",
              "      <td>0</td>\n",
              "      <td>0</td>\n",
              "      <td>0</td>\n",
              "      <td>0</td>\n",
              "      <td>0</td>\n",
              "      <td>0</td>\n",
              "      <td>72330</td>\n",
              "    </tr>\n",
              "    <tr>\n",
              "      <th>4</th>\n",
              "      <td>0</td>\n",
              "      <td>0</td>\n",
              "      <td>0</td>\n",
              "      <td>0</td>\n",
              "      <td>0</td>\n",
              "      <td>0</td>\n",
              "      <td>0</td>\n",
              "      <td>0</td>\n",
              "      <td>0</td>\n",
              "      <td>0</td>\n",
              "      <td>0</td>\n",
              "      <td>0</td>\n",
              "      <td>1</td>\n",
              "      <td>0</td>\n",
              "      <td>0</td>\n",
              "      <td>0</td>\n",
              "      <td>0</td>\n",
              "      <td>0</td>\n",
              "      <td>0</td>\n",
              "      <td>0</td>\n",
              "      <td>0</td>\n",
              "      <td>0</td>\n",
              "      <td>0</td>\n",
              "      <td>0</td>\n",
              "      <td>0</td>\n",
              "      <td>0</td>\n",
              "      <td>0</td>\n",
              "      <td>0</td>\n",
              "      <td>0</td>\n",
              "      <td>0</td>\n",
              "      <td>0</td>\n",
              "      <td>0</td>\n",
              "      <td>0</td>\n",
              "      <td>1</td>\n",
              "      <td>0</td>\n",
              "      <td>0</td>\n",
              "      <td>0</td>\n",
              "      <td>0</td>\n",
              "      <td>0</td>\n",
              "      <td>0</td>\n",
              "      <td>0</td>\n",
              "      <td>0</td>\n",
              "      <td>0</td>\n",
              "      <td>1</td>\n",
              "      <td>0</td>\n",
              "      <td>0</td>\n",
              "      <td>0</td>\n",
              "      <td>0</td>\n",
              "      <td>0</td>\n",
              "      <td>0</td>\n",
              "      <td>0</td>\n",
              "      <td>0</td>\n",
              "      <td>0</td>\n",
              "      <td>0</td>\n",
              "      <td>0</td>\n",
              "      <td>0</td>\n",
              "      <td>0</td>\n",
              "      <td>0</td>\n",
              "      <td>0</td>\n",
              "      <td>0</td>\n",
              "      <td>0</td>\n",
              "      <td>0</td>\n",
              "      <td>0</td>\n",
              "      <td>0</td>\n",
              "      <td>0</td>\n",
              "      <td>0</td>\n",
              "      <td>0</td>\n",
              "      <td>0</td>\n",
              "      <td>0</td>\n",
              "      <td>0</td>\n",
              "      <td>0</td>\n",
              "      <td>0</td>\n",
              "      <td>0</td>\n",
              "      <td>55370</td>\n",
              "    </tr>\n",
              "  </tbody>\n",
              "</table>\n",
              "</div>"
            ],
            "text/plain": [
              "   main_S60_1  main_S60_2  main_type_SP100D  ...  sales_29  sales_30   MSRP\n",
              "0           0           0                 0  ...         0         0  51355\n",
              "1           0           0                 0  ...         0         0  71580\n",
              "2           0           0                 0  ...         0         0  66790\n",
              "3           0           0                 0  ...         0         0  72330\n",
              "4           0           0                 0  ...         0         0  55370\n",
              "\n",
              "[5 rows x 74 columns]"
            ]
          },
          "metadata": {
            "tags": []
          },
          "execution_count": 8
        }
      ]
    },
    {
      "cell_type": "markdown",
      "metadata": {
        "id": "kcmsU-T1dnNF"
      },
      "source": [
        "# Task I. Consolidate data by finding numbers of unique car combinations sold for training and test data sets\n",
        "\n",
        "You've probably noticed that 73 of the 74 columns in our Q12 and Q34 datasets are one-hot-encoded representations of the car's `'main_type'`, `'engine'`, and `'sales_version'` values. You've probably also noticed that the final column is the car's `'MSRP'`, or manufacturer's (Tesla's, in this case) suggested retail price. In its current form, the sales data doesn't contain a target. The car's `'main_type'`, `'engine'`, `'sales_version'`, and `'MSRP'` values are all known to us before the time of the sale and do not, by themselves, offer us anything which we can predict. \n",
        "\n",
        "However, each row represents the sale of a single car. If we define a unique car type by its combination of `'main_type'`, `'engine'`, and `'sales_version'` values, the number of rows displaying that combination corresponds to the number of times during that half of the year that that distinct type of car was sold in California. Therefore, we can make training and test datasets where each row now corresponds to a unique car type, and the target value is how many times that car type was sold in California during a given half of the year.\n",
        "\n",
        "## This task requires data wrangling!\n",
        "## Create functions that read the Q12 (df_sales) and Q34 (df_pred) data sets and create train_X, train_Y, test_X and test_Y, respectively. Use pandas and NumPy as needed.\n",
        "\n",
        "train_X, test_X = unique row combinations without MSRP column\n",
        "\n",
        "train_Y, test_Y = number of unique cars sold"
      ]
    },
    {
      "cell_type": "code",
      "metadata": {
        "id": "qRlSIcDGhJ74"
      },
      "source": [
        "def get_features_and_targets(df):\n",
        "    ### START CODE HERE ###\n",
        "    # Create the local data DataFrame as a copy of the input df DataFrame, minus the 'MSRP' column\n",
        "    data = df.copy()\n",
        "    data.drop('MSRP', axis=1, inplace=True)\n",
        "    data_y = data.value_counts(normalize=True, sort=False)\n",
        "    # Use the value_counts() method for DataFrames to store the targets as a NumPy array of the \n",
        "    # normalized sales counts associated with each unique combination of 'main_type', 'engine', \n",
        "    # and 'sales_version' values in the data DataFrame\n",
        "    # Make sure the counts are unsorted, so they're listed in order of the combination's first appearance\n",
        "    # in the data DataFrame, and that the array is 2D, with 1 entry per row\n",
        "    Y = data_y.to_numpy()\n",
        "    Y = Y.reshape(Y.shape[0], 1)\n",
        "    # Get a list of the column names of the data DataFrame\n",
        "    subset_names = data.columns.values.tolist()\n",
        "    # Use the drop_duplicates() method on the df DataFrame to store the features data as a NumPy array where\n",
        "    # each row corresponds to a unique combination of 'main_type', 'engine', and 'sales_version' values\n",
        "    # Make sure to set the subset parameter to subset_names, so the 'MSRP' column isn't included in the \n",
        "    # uniqueness calculations\n",
        "    X = np.array(df.drop_duplicates(subset=subset_names))\n",
        "    # Scale and shift the 'MSRP' column so its values fall in the range [0,1]\n",
        "    # You might find NumPy's ptp() function useful\n",
        "    X[:,-1] = ( X[:,-1] - min(X[:,-1]) ) / np.ptp(X[:,-1])\n",
        "    # Return features and targets\n",
        "    return X, Y\n",
        "    ### END CODE HERE ###"
      ],
      "execution_count": 39,
      "outputs": []
    },
    {
      "cell_type": "markdown",
      "metadata": {
        "id": "toTX3W89fX2P"
      },
      "source": [
        "### Extract features and targets as defined above from both the Q12 and Q34 datasets"
      ]
    },
    {
      "cell_type": "code",
      "metadata": {
        "id": "Rf6Vj0ujhJ77",
        "outputId": "7d80b60b-6292-4e6c-a0f3-5bb95df3824a",
        "colab": {
          "base_uri": "https://localhost:8080/",
          "height": 51
        }
      },
      "source": [
        "### START CODE HERE ###\n",
        "# Extract training features and targets from the Q12 data\n",
        "train_X, train_Y = get_features_and_targets(df_sales)\n",
        "# Extract test features and targets from the Q34 data\n",
        "test_X, test_Y = get_features_and_targets(df_pred)\n",
        "### END CODE HERE ###\n",
        "print(f\"Number of unique cars in Q12 = {len(train_Y)}\")\n",
        "print(f\"Number of unique cars in Q34 = {len(test_Y)}\")"
      ],
      "execution_count": 42,
      "outputs": [
        {
          "output_type": "stream",
          "text": [
            "Number of unique cars in Q12 = 66\n",
            "Number of unique cars in Q34 = 71\n"
          ],
          "name": "stdout"
        }
      ]
    },
    {
      "cell_type": "markdown",
      "metadata": {
        "id": "8d7BSjsQdnNV"
      },
      "source": [
        "You probably noticed that the Q12 and Q34 datasets contained differing numbers of distinct cars. Clearly, some new models were introduced by Q3, but were any discontinued by the end of Q2? Let's find out."
      ]
    },
    {
      "cell_type": "code",
      "metadata": {
        "id": "luGBEZB5hJ8A",
        "outputId": "88296138-d5e3-45b9-88e5-1db0b4dce9f0",
        "colab": {
          "base_uri": "https://localhost:8080/",
          "height": 34
        }
      },
      "source": [
        "# How many unique cars in 2012 (Q1:Q4)?\n",
        "### START CODE HERE ### \n",
        "# Concatenate the Q12 and Q34 DataFrames into a single DataFrame\n",
        "df_full = pd.concat([df_sales, df_pred])\n",
        "# Extract features and targets from the concatenated Q14 data\n",
        "data_X, data_Y = get_features_and_targets(df_full)\n",
        "### END CODE HERE ###\n",
        "print(f\"Number of unique cars in Q12 and Q34 = {len(data_Y)}\")"
      ],
      "execution_count": 43,
      "outputs": [
        {
          "output_type": "stream",
          "text": [
            "Number of unique cars in Q12 and Q34 = 80\n"
          ],
          "name": "stdout"
        }
      ]
    },
    {
      "cell_type": "markdown",
      "metadata": {
        "id": "AGEXB0mCdnNb"
      },
      "source": [
        "The following probability equations are true for any two events $A$ and $B$:`\n",
        "\n",
        "$$P (A \\cup B) = P(A) + P(B) - P (A \\cap B)$$\n",
        "$$P(A) = P (A \\cap B) + P (A \\cap B^c)$$\n",
        "\n",
        "Use them to determine how many car models were sold in both halves of 2019, how many were discontinued by the second half of the year, and how many were launched in the second half of the year."
      ]
    },
    {
      "cell_type": "code",
      "metadata": {
        "id": "Hewxl1lMf-VF",
        "outputId": "9e440fb6-af1c-493c-ef07-ce7be3381dcb",
        "colab": {
          "base_uri": "https://localhost:8080/",
          "height": 68
        }
      },
      "source": [
        "### START CODE HERE ###\n",
        "pA = len(train_Y) # using as proxy for P(A)\n",
        "pB = len(test_Y) # using as proxy for P(B)\n",
        "pAB = len(data_Y) # using as proxy for P(A U B)\n",
        "\n",
        "print('cars common in both halves: ', pA + pB -pAB )# using A intersection B\n",
        "\n",
        "# so cars discontinued in h1 is \n",
        "print('cars discontinued from h1: ', pA-(pA + pB -pAB))\n",
        "\n",
        "# new models introduced in h2 is\n",
        "print('new cars introduced in h2: ', pB-(pA + pB -pAB))\n",
        "\n",
        "### END CODE HERE ###"
      ],
      "execution_count": 53,
      "outputs": [
        {
          "output_type": "stream",
          "text": [
            "cars common in both halves:  57\n",
            "cars discontinued from h1:  9\n",
            "new cars introduced in h2:  14\n"
          ],
          "name": "stdout"
        }
      ]
    },
    {
      "cell_type": "markdown",
      "metadata": {
        "id": "3qn6SNBNdnNb"
      },
      "source": [
        "# Task II: Visualize the training and test targets any way you see fit"
      ]
    },
    {
      "cell_type": "code",
      "metadata": {
        "id": "RsuuxEqhjD6q",
        "outputId": "3cb7edf6-9955-4cf9-dda3-ba632d18a98d",
        "colab": {
          "base_uri": "https://localhost:8080/",
          "height": 265
        }
      },
      "source": [
        "# Visualize the training targets\n",
        "### START CODE HERE ###\n",
        "plt.scatter(range(len(train_Y)), train_Y)\n",
        "plt.show()\n",
        "### END CODE HERE ###"
      ],
      "execution_count": 80,
      "outputs": [
        {
          "output_type": "display_data",
          "data": {
            "image/png": "[encoded data removed]",
            "text/plain": [
              "<Figure size 432x288 with 1 Axes>"
            ]
          },
          "metadata": {
            "tags": [],
            "needs_background": "light"
          }
        }
      ]
    },
    {
      "cell_type": "code",
      "metadata": {
        "id": "gyGN9vqLdnNe",
        "outputId": "21f452d3-a51c-44fe-918f-20fd955a5a3a",
        "colab": {
          "base_uri": "https://localhost:8080/",
          "height": 265
        }
      },
      "source": [
        "# Visualize the test targets\n",
        "### START CODE HERE ###\n",
        "plt.scatter(range(len(test_Y)), test_Y)\n",
        "plt.show()\n",
        "### END CODE HERE ###"
      ],
      "execution_count": 81,
      "outputs": [
        {
          "output_type": "display_data",
          "data": {
            "image/png": "[encoded data removed]",
            "text/plain": [
              "<Figure size 432x288 with 1 Axes>"
            ]
          },
          "metadata": {
            "tags": [],
            "needs_background": "light"
          }
        }
      ]
    },
    {
      "cell_type": "markdown",
      "metadata": {
        "id": "9g-2fwgydnNh"
      },
      "source": [
        "# Task III: Apply Gradient Descent (Linear, Polynomial)"
      ]
    },
    {
      "cell_type": "markdown",
      "metadata": {
        "id": "fXjeuMN3dnNh"
      },
      "source": [
        "Initialize the $\\theta$ parameters as a column vector of zeros, one for every feature in the training data plus one for bias. \n",
        "\n",
        "Also set hyperparameters for learning rate and maximum number of iterations through the training data."
      ]
    },
    {
      "cell_type": "code",
      "metadata": {
        "id": "bq--V5vSdnNi"
      },
      "source": [
        "# Initialize learned parameters theta and hyperparameters\n",
        "s_theta = np.zeros((train_X.shape[1]+1, 1))\n",
        "s_learning_rate = 0.001\n",
        "s_max_iteration = 1000"
      ],
      "execution_count": 82,
      "outputs": []
    },
    {
      "cell_type": "markdown",
      "metadata": {
        "id": "Lx-wS125dnNk"
      },
      "source": [
        "### Hypothesis Function\n",
        "\n",
        "Define your hypothesis function $h$ (which you use to make predictions $\\hat{Y}$ as the matrix product of your features data X and parameters theta, in that order. \n",
        "\n",
        "Don't forget to add a 0th column of ones to X to account for the bias/offset parameter."
      ]
    },
    {
      "cell_type": "code",
      "metadata": {
        "id": "SI8oTUQsdnNk"
      },
      "source": [
        "# Define your hypothesis function according to the instructions above\n",
        "def h (theta, X) :\n",
        "    ### START CODE HERE ###\n",
        "    tempX = np.append(np.ones((X.shape[0], 1)), X, axis=1)\n",
        "    return np.matmul(tempX, theta)\n",
        "    ### END CODE HERE ###"
      ],
      "execution_count": 83,
      "outputs": []
    },
    {
      "cell_type": "markdown",
      "metadata": {
        "id": "7LW5F5uhdnNm"
      },
      "source": [
        "Define your loss function as **half** the MSE (mean squared error) between your actual and predicted Y values. \n",
        "\n",
        "Recall that the predicted Y values are a function of theta and X.\n"
      ]
    },
    {
      "cell_type": "code",
      "metadata": {
        "id": "KzRpZec4dnNm"
      },
      "source": [
        "# Loss Function\n",
        "def loss (theta, X, Y) :\n",
        "    ### START CODE HERE ###\n",
        "    return np.average(np.square(Y-h(theta, X)))/2\n",
        "    ### END CODE HERE ###"
      ],
      "execution_count": 84,
      "outputs": []
    },
    {
      "cell_type": "markdown",
      "metadata": {
        "id": "PCLgRXivdnNp"
      },
      "source": [
        "### Gradient of Hypothesis Function\n",
        "\n",
        "One can verify through straightforward (if somewhat tedious) multivariable calculus that the gradient of the loss function $J$ with respect to the parameters $\\theta$ is \n",
        "\n",
        "$$ \\frac{\\partial J}{\\partial \\theta} = - \\frac{1}{m} X^T \\cdot (Y - \\hat{Y})$$.\n",
        "\n",
        "Here, $X$ has been augmented with a bias column. \n",
        "\n",
        "Set up a function to compute this gradient."
      ]
    },
    {
      "cell_type": "code",
      "metadata": {
        "id": "3zYnvBa1dnNp"
      },
      "source": [
        "def gradient (theta, X, Y) :\n",
        "    ### START CODE HERE ###\n",
        "    # Create a temporary X array with an added 0th bias column\n",
        "    tempX = np.ones((X.shape[0], X.shape[1] + 1))\n",
        "    tempX[:,1:] = X\n",
        "    # Compute the gradient according to the instructions above\n",
        "    d_theta = - np.average((Y - h(theta, X)) * tempX, axis= 0)\n",
        "    d_theta = d_theta.reshape(tempX.shape[1], 1)\n",
        "    ### END CODE HERE ###\n",
        "    return d_theta"
      ],
      "execution_count": 85,
      "outputs": []
    },
    {
      "cell_type": "markdown",
      "metadata": {
        "id": "fo-NxmSLdnNr"
      },
      "source": [
        "### Gradient Descent\n",
        "\n",
        "Set up a function to train your linear regression model with gradient descent, i.e. calculate $\\frac{\\partial J}{\\partial \\theta}$ and update $\\theta$. Recall that the general gradient descent update formula is $\\theta := \\theta - \\alpha \\frac{\\partial J}{\\partial \\theta}$. We've provided the skeleton of a stochastic gradient descent function, but you're welcome to experiment with batch and/or minibatch gradient descent. Also recall that the aforementioned gradient descent methods differ in how frequently they calculate $\\frac{\\partial J}{\\partial \\theta}$ and update $\\theta$. "
      ]
    },
    {
      "cell_type": "code",
      "metadata": {
        "id": "g6hbmDgkdnNs"
      },
      "source": [
        "def stochastic_gradient_descent (theta, X, Y, learning_rate, max_iteration, gap) :\n",
        "    ### START CODE HERE ###\n",
        "    # Initialize the cost as an array of zeros, one for each iteration through the dataset\n",
        "    cost = np.zeros(max_iteration)\n",
        "    # Loop over the dataset\n",
        "    for i in range(max_iteration):\n",
        "        # Loop over each row in the dataset\n",
        "        for j in range(X.shape[0]):\n",
        "            # Compute the gradient from the current row in X and the associated Y value\n",
        "            # Make sure that both X and Y are represented as 2D row vectors\n",
        "            d_theta = gradient(theta, X[j].reshape(1, X.shape[1]), Y[j].reshape(1, Y.shape[1]))\n",
        "            # Update theta\n",
        "            theta = theta - learning_rate * d_theta\n",
        "        # Update the cost array for the current iteration\n",
        "        cost[i] = loss(theta, X, Y)\n",
        "    ### END CODE HERE ###\n",
        "        if i % gap == 0 :\n",
        "            print ('iteration : ', i, ' loss : ', loss(theta, X, Y)) \n",
        "    return theta, cost"
      ],
      "execution_count": 87,
      "outputs": []
    },
    {
      "cell_type": "code",
      "metadata": {
        "id": "O084UJ8UdnNt",
        "outputId": "9d13a727-cd05-4edd-fa23-f3d9a2966bdd",
        "colab": {
          "base_uri": "https://localhost:8080/",
          "height": 187
        }
      },
      "source": [
        "s_theta, s_cost = stochastic_gradient_descent(s_theta, train_X, train_Y, s_learning_rate, s_max_iteration, 100)"
      ],
      "execution_count": 96,
      "outputs": [
        {
          "output_type": "stream",
          "text": [
            "iteration :  0  loss :  0.00017657353425701346\n",
            "iteration :  100  loss :  0.0001762813696574168\n",
            "iteration :  200  loss :  0.0001760138733562465\n",
            "iteration :  300  loss :  0.00017576811255549113\n",
            "iteration :  400  loss :  0.00017554160802577072\n",
            "iteration :  500  loss :  0.00017533224628306422\n",
            "iteration :  600  loss :  0.00017513821269207215\n",
            "iteration :  700  loss :  0.0001749579396161857\n",
            "iteration :  800  loss :  0.00017479006557248405\n",
            "iteration :  900  loss :  0.0001746334025772293\n"
          ],
          "name": "stdout"
        }
      ]
    },
    {
      "cell_type": "markdown",
      "metadata": {
        "id": "B6D2kqejdnNv"
      },
      "source": [
        "### Generate Predictions from Test Data"
      ]
    },
    {
      "cell_type": "code",
      "metadata": {
        "id": "m-u3iTbNdnNw"
      },
      "source": [
        "### START CODE HERE ###\n",
        "GD_P = h(s_theta, test_X)\n",
        "### END CODE HERE ###\n",
        "# Set any negative predictions to 0\n",
        "GD_P[GD_P<0] = 0"
      ],
      "execution_count": 97,
      "outputs": []
    },
    {
      "cell_type": "markdown",
      "metadata": {
        "id": "2ImYOho6dnNy"
      },
      "source": [
        "### Visualize the predicted and actual test labels"
      ]
    },
    {
      "cell_type": "code",
      "metadata": {
        "id": "Ljk24gJ4dnNy",
        "outputId": "0ecf12f9-9f3d-418b-b5d2-a1affc1e46cc",
        "colab": {
          "base_uri": "https://localhost:8080/",
          "height": 282
        }
      },
      "source": [
        "plt.scatter(range(len(test_Y)), test_Y,  color='black')\n",
        "plt.scatter(range(len(GD_P)), GD_P, color='blue', linewidth=3)\n",
        "from sklearn.metrics import mean_squared_error as MSE\n",
        "\n",
        "# This function evaluates the R**2 statistic\n",
        "def r2(Yt,Yp):\n",
        "    yhat = Yp                         \n",
        "    ybar = np.sum(Yt)/len(Yt)          \n",
        "    ssreg = np.sum((yhat-ybar)**2)   \n",
        "    sstot = np.sum((Yt - ybar)**2)    \n",
        "    results = ssreg / sstot\n",
        "    return results\n",
        "\n",
        "\n",
        "print(\"RMSE, R2 using SGD=\", MSE(test_Y,GD_P), r2(test_Y,GD_P))"
      ],
      "execution_count": 98,
      "outputs": [
        {
          "output_type": "stream",
          "text": [
            "RMSE, R2 using SGD= 0.000550679486454796 0.8010722615654465\n"
          ],
          "name": "stdout"
        },
        {
          "output_type": "display_data",
          "data": {
            "image/png": "[encoded data removed]",
            "text/plain": [
              "<Figure size 432x288 with 1 Axes>"
            ]
          },
          "metadata": {
            "tags": [],
            "needs_background": "light"
          }
        }
      ]
    },
    {
      "cell_type": "markdown",
      "metadata": {
        "id": "QNFkAA7gdnN0"
      },
      "source": [
        "# Task IV: Normal Equations\n",
        "\n",
        "Since our training dataset isn't very large, let's generate predictions using the normal equations: \n",
        "\n",
        "$$W = (X^T \\cdot X)^{-1} \\cdot X^T \\cdot Y$$ \n",
        "$$\\hat{Y} = W^T \\cdot X$$\n",
        "\n",
        "and see how they compare to the predictions which we obtained from gradient descent."
      ]
    },
    {
      "cell_type": "code",
      "metadata": {
        "id": "ez7XC2qQdnN1"
      },
      "source": [
        "### START CODE HERE ###\n",
        "# Compute the inverse of the matrix product of the transpose of X and X\n",
        "# adding a column of zeros for bias\n",
        "tempX_train = np.append(np.ones((train_X.shape[0], 1)), train_X, axis=1)\n",
        "tempX_test = np.append(np.ones((test_X.shape[0], 1)), test_X, axis=1)\n",
        "inv1 = np.linalg.pinv(np.matmul(tempX_train.T, tempX_train))\n",
        "# Compute W using the first of the Normal Equations\n",
        "W1 = np.matmul(inv1, np.matmul(tempX_train.T, train_Y))\n",
        "# Compute the predicted Y values using the second of the Normal Equations\n",
        "PN1 = np.matmul(W1.T, tempX_test.T)\n",
        "### END CODE HERE ###\n",
        "\n",
        "# Set any negative predictions to 0\n",
        "PN1[np.where(PN1<0)]=0"
      ],
      "execution_count": 198,
      "outputs": []
    },
    {
      "cell_type": "code",
      "metadata": {
        "scrolled": true,
        "id": "lu9NjgsJdnN3",
        "outputId": "ea1d6de1-767e-4dc0-caee-1949a60ef9cf",
        "colab": {
          "base_uri": "https://localhost:8080/",
          "height": 282
        }
      },
      "source": [
        "# Plot outputs\n",
        "plt.scatter(range(len(test_Y)), test_Y,  color='black')\n",
        "plt.scatter(range(len(PN1.T)), PN1, color='blue', linewidth=3)\n",
        "print(\"RMSE, R2 for prediction all features =\", MSE(test_Y,PN1.T), r2(test_Y,PN1.T)) #[Low error high corr]"
      ],
      "execution_count": 199,
      "outputs": [
        {
          "output_type": "stream",
          "text": [
            "RMSE, R2 for prediction all features = 0.0005752830089194816 0.8729135062643177\n"
          ],
          "name": "stdout"
        },
        {
          "output_type": "display_data",
          "data": {
            "image/png": "[encoded data removed]",
            "text/plain": [
              "<Figure size 432x288 with 1 Axes>"
            ]
          },
          "metadata": {
            "tags": [],
            "needs_background": "light"
          }
        }
      ]
    },
    {
      "cell_type": "markdown",
      "metadata": {
        "id": "i3ofJxdUdnN6"
      },
      "source": [
        "### Regularized Normal Equations"
      ]
    },
    {
      "cell_type": "code",
      "metadata": {
        "id": "VyIX4LaAdnN6",
        "outputId": "f71f1efa-8d3d-4315-bdce-f2439bdf04d2",
        "colab": {
          "base_uri": "https://localhost:8080/",
          "height": 51
        }
      },
      "source": [
        "print('Recall that our training features array train_X has')\n",
        "print(f'm = {train_X.shape[0]} rows and n = {train_X.shape[1]} columns')"
      ],
      "execution_count": 141,
      "outputs": [
        {
          "output_type": "stream",
          "text": [
            "Recall that our training features array train_X has\n",
            "m = 66 rows and n = 74 columns\n"
          ],
          "name": "stdout"
        }
      ]
    },
    {
      "cell_type": "markdown",
      "metadata": {
        "id": "BSvkrQ6EdnN8"
      },
      "source": [
        "`train_X` is thus wider than it is tall, which suggests that the regularized normal equations might perform better in generating label predictions. In this case, we modify the first of the normal equations given above to \n",
        "\n",
        "$$W = (X^T \\cdot X + \\lambda m I)^{-1} \\cdot X^T \\cdot Y$$.\n",
        "\n",
        "Here, $\\lambda$ is the regularization parameter and $m$ is the number of rows in $X$."
      ]
    },
    {
      "cell_type": "markdown",
      "metadata": {
        "id": "7Mgd1zocdnN9"
      },
      "source": [
        "### Repeat the previous parts of Task IV, but this time incorporate regularization"
      ]
    },
    {
      "cell_type": "code",
      "metadata": {
        "id": "cBq0hpxDdEkw",
        "outputId": "c1876da2-563a-469b-a279-b703abae8981",
        "colab": {
          "base_uri": "https://localhost:8080/",
          "height": 34
        }
      },
      "source": [
        "lmbd = [x/10 for x in range(1, 9)]\n",
        "lmbd"
      ],
      "execution_count": 204,
      "outputs": [
        {
          "output_type": "execute_result",
          "data": {
            "text/plain": [
              "[0.1, 0.2, 0.3, 0.4, 0.5, 0.6, 0.7, 0.8]"
            ]
          },
          "metadata": {
            "tags": []
          },
          "execution_count": 204
        }
      ]
    },
    {
      "cell_type": "code",
      "metadata": {
        "id": "bIrbJkOydnN9",
        "outputId": "1bb227e6-8b7e-47c8-89b0-79884b55bf4c",
        "colab": {
          "base_uri": "https://localhost:8080/",
          "height": 153
        }
      },
      "source": [
        "### START CODE HERE ###\n",
        "for i in lmbd:\n",
        "  inv1 = np.linalg.pinv(np.matmul(train_X.T, train_X)+i*train_X.shape[0]*np.identity(74))\n",
        "\n",
        "  W1 = np.matmul(inv1, np.matmul(train_X.T, train_Y))\n",
        "\n",
        "  PN1_reg = np.matmul(W1.T, test_X.T)\n",
        "\n",
        "  PN1_reg[np.where(PN1<0)]=0\n",
        "  print(\"RMSE, R2 for prediction all features =\", MSE(test_Y,PN1_reg.T), r2(test_Y,PN1.T))\n",
        "### END CODE HERE ###"
      ],
      "execution_count": 205,
      "outputs": [
        {
          "output_type": "stream",
          "text": [
            "RMSE, R2 for prediction all features = 0.00039689088391802087 0.8729135062643177\n",
            "RMSE, R2 for prediction all features = 0.000387987351974357 0.8729135062643177\n",
            "RMSE, R2 for prediction all features = 0.00038986691353293495 0.8729135062643177\n",
            "RMSE, R2 for prediction all features = 0.0003951503485455689 0.8729135062643177\n",
            "RMSE, R2 for prediction all features = 0.00040159208506965216 0.8729135062643177\n",
            "RMSE, R2 for prediction all features = 0.00040828187284113626 0.8729135062643177\n",
            "RMSE, R2 for prediction all features = 0.00041482024495992093 0.8729135062643177\n",
            "RMSE, R2 for prediction all features = 0.00042103381488983667 0.8729135062643177\n"
          ],
          "name": "stdout"
        }
      ]
    },
    {
      "cell_type": "markdown",
      "metadata": {
        "id": "o5uD0DVidnN_"
      },
      "source": [
        "# Task V: Non-linear Regression Models (GLM, DT) "
      ]
    },
    {
      "cell_type": "markdown",
      "metadata": {
        "id": "Yk0Be7SQdnN_"
      },
      "source": [
        "### Generalized Linear Models\n",
        "\n",
        "`sm` (our alias for `statsmodels.api`) contains a `GLM` class. Use it to instantiate a model. The relevant parameters are training labels, training features, and `ffamily`, i.e. the family of distributions to which we assume our prediction errors belong. Some potentially good choices for `ffamily` include Gaussian, Gamma, and Logit."
      ]
    },
    {
      "cell_type": "code",
      "metadata": {
        "id": "cxUdD_LhdnN_",
        "outputId": "caf5ae50-32d6-403c-c6c1-a3a642984a65",
        "colab": {
          "base_uri": "https://localhost:8080/",
          "height": 1000
        }
      },
      "source": [
        "# GLM \n",
        "import statsmodels.api as sm\n",
        "### START CODE HERE ###\n",
        "# Instantiate the GLM\n",
        "train_X_glm = sm.add_constant(train_X)\n",
        "\n",
        "glm_gamma = sm.GLM(train_Y, train_X_glm, family=sm.families.Gaussian())\n",
        "# Train the GLM\n",
        "glm_results = glm_gamma.fit()\n",
        "### END CODE HERE ###\n",
        "print(glm_results.summary())"
      ],
      "execution_count": 212,
      "outputs": [
        {
          "output_type": "stream",
          "text": [
            "                 Generalized Linear Model Regression Results                  \n",
            "==============================================================================\n",
            "Dep. Variable:                      y   No. Observations:                   66\n",
            "Model:                            GLM   Df Residuals:                       34\n",
            "Model Family:                Gaussian   Df Model:                           31\n",
            "Link Function:               identity   Scale:                      0.00066624\n",
            "Method:                          IRLS   Log-Likelihood:                 169.60\n",
            "Date:                Sun, 25 Oct 2020   Deviance:                     0.022652\n",
            "Time:                        00:26:21   Pearson chi2:                   0.0227\n",
            "No. Iterations:                     4                                         \n",
            "Covariance Type:            nonrobust                                         \n",
            "==============================================================================\n",
            "                 coef    std err          z      P>|z|      [0.025      0.975]\n",
            "------------------------------------------------------------------------------\n",
            "const          0.0209      0.010      2.125      0.034       0.002       0.040\n",
            "x1          1.046e-17   2.77e-17      0.378      0.705   -4.38e-17    6.47e-17\n",
            "x2          -1.79e-17   1.47e-17     -1.217      0.224   -4.67e-17    1.09e-17\n",
            "x3             0.0026      0.037      0.070      0.944      -0.069       0.074\n",
            "x4            -0.0637      0.052     -1.235      0.217      -0.165       0.037\n",
            "x5            -0.0037      0.016     -0.237      0.813      -0.034       0.027\n",
            "x6             0.0283      0.011      2.597      0.009       0.007       0.050\n",
            "x7            -0.0039      0.013     -0.310      0.757      -0.029       0.021\n",
            "x8          8.559e-18   4.18e-17      0.205      0.838   -7.34e-17    9.05e-17\n",
            "x9             0.0023      0.026      0.089      0.929      -0.048       0.053\n",
            "x10           -0.0069      0.014     -0.499      0.618      -0.034       0.020\n",
            "x11           -0.0037      0.018     -0.208      0.835      -0.039       0.031\n",
            "x12            0.0031      0.014      0.214      0.831      -0.025       0.031\n",
            "x13            0.0241      0.010      2.332      0.020       0.004       0.044\n",
            "x14           -0.0182      0.024     -0.772      0.440      -0.064       0.028\n",
            "x15        -7.645e-18   4.24e-17     -0.180      0.857   -9.07e-17    7.54e-17\n",
            "x16         5.177e-18   7.36e-18      0.703      0.482   -9.25e-18    1.96e-17\n",
            "x17           -0.0019      0.008     -0.226      0.821      -0.018       0.014\n",
            "x18           -0.0039      0.011     -0.347      0.728      -0.026       0.018\n",
            "x19         5.257e-18    9.6e-18      0.548      0.584   -1.36e-17    2.41e-17\n",
            "x20         7.294e-18   9.11e-18      0.801      0.423   -1.06e-17    2.51e-17\n",
            "x21         2.287e-17    1.6e-17      1.429      0.153   -8.51e-18    5.42e-17\n",
            "x22           -0.0135      0.015     -0.903      0.367      -0.043       0.016\n",
            "x23        -1.386e-17   7.98e-18     -1.736      0.083   -2.95e-17    1.79e-18\n",
            "x24            0.0215      0.020      1.078      0.281      -0.018       0.061\n",
            "x25        -2.745e-18   1.26e-18     -2.177      0.030   -5.22e-18   -2.73e-19\n",
            "x26        -8.636e-19   1.16e-18     -0.742      0.458   -3.14e-18    1.42e-18\n",
            "x27           1.6e-19   9.58e-19      0.167      0.867   -1.72e-18    2.04e-18\n",
            "x28         1.655e-18   1.39e-18      1.192      0.233   -1.07e-18    4.38e-18\n",
            "x29         2.387e-18   2.13e-18      1.122      0.262   -1.78e-18    6.56e-18\n",
            "x30         3.743e-21   9.96e-21      0.376      0.707   -1.58e-20    2.33e-20\n",
            "x31           -0.0031      0.030     -0.104      0.917      -0.062       0.055\n",
            "x32           -0.0095      0.023     -0.406      0.685      -0.055       0.036\n",
            "x33           -0.0104      0.011     -0.917      0.359      -0.033       0.012\n",
            "x34           -0.0034      0.009     -0.360      0.719      -0.022       0.015\n",
            "x35                 0          0        nan        nan           0           0\n",
            "x36                 0          0        nan        nan           0           0\n",
            "x37                 0          0        nan        nan           0           0\n",
            "x38            0.0021      0.011      0.183      0.855      -0.020       0.024\n",
            "x39                 0          0        nan        nan           0           0\n",
            "x40                 0          0        nan        nan           0           0\n",
            "x41           -0.0148      0.030     -0.489      0.625      -0.074       0.045\n",
            "x42                 0          0        nan        nan           0           0\n",
            "x43           -0.0205      0.012     -1.778      0.075      -0.043       0.002\n",
            "x44            0.0269      0.020      1.345      0.179      -0.012       0.066\n",
            "x45                 0          0        nan        nan           0           0\n",
            "x46           -0.0010      0.020     -0.050      0.960      -0.040       0.038\n",
            "x47           -0.0027      0.020     -0.136      0.892      -0.042       0.036\n",
            "x48           -0.0098      0.027     -0.369      0.712      -0.062       0.042\n",
            "x49                 0          0        nan        nan           0           0\n",
            "x50           -0.0213      0.020     -1.063      0.288      -0.060       0.018\n",
            "x51           -0.0193      0.012     -1.615      0.106      -0.043       0.004\n",
            "x52           -0.0084      0.011     -0.744      0.457      -0.031       0.014\n",
            "x53            0.0112      0.025      0.448      0.654      -0.038       0.060\n",
            "x54            0.0502      0.032      1.565      0.118      -0.013       0.113\n",
            "x55                 0          0        nan        nan           0           0\n",
            "x56                 0          0        nan        nan           0           0\n",
            "x57                 0          0        nan        nan           0           0\n",
            "x58                 0          0        nan        nan           0           0\n",
            "x59                 0          0        nan        nan           0           0\n",
            "x60           -0.0044      0.031     -0.143      0.886      -0.064       0.056\n",
            "x61                 0          0        nan        nan           0           0\n",
            "x62                 0          0        nan        nan           0           0\n",
            "x63                 0          0        nan        nan           0           0\n",
            "x64           -0.0104      0.011     -0.917      0.359      -0.033       0.012\n",
            "x65                 0          0        nan        nan           0           0\n",
            "x66                 0          0        nan        nan           0           0\n",
            "x67           -0.0025      0.011     -0.234      0.815      -0.023       0.018\n",
            "x68            0.0137      0.025      0.549      0.583      -0.035       0.063\n",
            "x69            0.0215      0.020      1.078      0.281      -0.018       0.061\n",
            "x70                 0          0        nan        nan           0           0\n",
            "x71           -0.0229      0.020     -1.144      0.253      -0.062       0.016\n",
            "x72                 0          0        nan        nan           0           0\n",
            "x73                 0          0        nan        nan           0           0\n",
            "x74           -0.0040      0.038     -0.105      0.917      -0.078       0.070\n",
            "==============================================================================\n"
          ],
          "name": "stdout"
        },
        {
          "output_type": "stream",
          "text": [
            "/usr/local/lib/python3.6/dist-packages/statsmodels/base/model.py:1294: RuntimeWarning:\n",
            "\n",
            "invalid value encountered in true_divide\n",
            "\n",
            "/usr/local/lib/python3.6/dist-packages/scipy/stats/_distn_infrastructure.py:903: RuntimeWarning:\n",
            "\n",
            "invalid value encountered in greater\n",
            "\n",
            "/usr/local/lib/python3.6/dist-packages/scipy/stats/_distn_infrastructure.py:903: RuntimeWarning:\n",
            "\n",
            "invalid value encountered in less\n",
            "\n",
            "/usr/local/lib/python3.6/dist-packages/scipy/stats/_distn_infrastructure.py:1912: RuntimeWarning:\n",
            "\n",
            "invalid value encountered in less_equal\n",
            "\n"
          ],
          "name": "stderr"
        }
      ]
    },
    {
      "cell_type": "markdown",
      "metadata": {
        "id": "7IAchWHodnOB"
      },
      "source": [
        "### Generate predictions from the test data"
      ]
    },
    {
      "cell_type": "code",
      "metadata": {
        "id": "XLTsITX7dnOC"
      },
      "source": [
        "### START CODE HERE ###\n",
        "test_X_glm = sm.add_constant(test_X)\n",
        "G_P = glm_results.predict(test_X_glm)\n",
        "### END CODE HERE ###\n",
        "# Set any negative predictions to 0\n",
        "G_P[G_P<0]=0"
      ],
      "execution_count": 213,
      "outputs": []
    },
    {
      "cell_type": "code",
      "metadata": {
        "id": "TgXIT-JpdnOE",
        "outputId": "baa13d93-b03f-434c-8ef3-0b57e41dd56f",
        "colab": {
          "base_uri": "https://localhost:8080/",
          "height": 282
        }
      },
      "source": [
        "# Plot outputs\n",
        "plt.scatter(range(len(test_Y)), test_Y,  color='black')\n",
        "plt.scatter(range(len(G_P)), G_P, color='blue', linewidth=3)\n",
        "print(\"RMSE, R2 for GLM=\", MSE(test_Y,G_P), r2(test_Y,G_P)) "
      ],
      "execution_count": 214,
      "outputs": [
        {
          "output_type": "stream",
          "text": [
            "RMSE, R2 for GLM= 0.0005752830089194823 0.8729135062643185\n"
          ],
          "name": "stdout"
        },
        {
          "output_type": "display_data",
          "data": {
            "image/png": "[encoded data removed]",
            "text/plain": [
              "<Figure size 432x288 with 1 Axes>"
            ]
          },
          "metadata": {
            "tags": [],
            "needs_background": "light"
          }
        }
      ]
    },
    {
      "cell_type": "markdown",
      "metadata": {
        "id": "Vld0rNUcdnOG"
      },
      "source": [
        "### Random Forest Regression\n",
        "\n",
        "Use the `RandomForestRegressor` from `sklearn.ensemble` to generate predictions. The relevant parameters are the `max_depth` of the trees and the `random_state`, to ensure reproducibility."
      ]
    },
    {
      "cell_type": "code",
      "metadata": {
        "id": "EbxRUm3UdnOG"
      },
      "source": [
        "### START CODE HERE ###\n",
        "from sklearn.ensemble import RandomForestRegressor\n",
        "# Instantiate the random forest regression model\n",
        "regr = RandomForestRegressor(max_depth=5, random_state=0)\n",
        "# Train the model\n",
        "regr.fit(train_X, np.ravel(train_Y))\n",
        "# Generate predictions from the test data\n",
        "pred_rf = regr.predict(test_X)\n",
        "### END CODE HERE ###"
      ],
      "execution_count": 164,
      "outputs": []
    },
    {
      "cell_type": "code",
      "metadata": {
        "id": "bWVeR1PvdnOI"
      },
      "source": [
        "# Set any negative predictions to 0\n",
        "pred_rf[np.where(pred_rf<0)]=0"
      ],
      "execution_count": 165,
      "outputs": []
    },
    {
      "cell_type": "code",
      "metadata": {
        "id": "YSZX9t1MdnOK",
        "outputId": "50a461f5-e8b1-4964-8f0c-a2ebd62bd073",
        "colab": {
          "base_uri": "https://localhost:8080/",
          "height": 500
        }
      },
      "source": [
        "# Plot outputs\n",
        "plt.figure(figsize=(10,8))\n",
        "plt.scatter(range(len(test_Y)), test_Y,  color='black')\n",
        "plt.scatter(range(len(pred_rf)), pred_rf, color='blue', linewidth=3)\n",
        "print(\"RMSE, R2 for Decision Trees=\", MSE(test_Y,pred_rf), r2(test_Y,pred_rf)) #[Low error high corr]"
      ],
      "execution_count": 281,
      "outputs": [
        {
          "output_type": "stream",
          "text": [
            "RMSE, R2 for Decision Trees= 0.0005928273619876742 0.7776326032928653\n"
          ],
          "name": "stdout"
        },
        {
          "output_type": "display_data",
          "data": {
            "image/png": "[encoded data removed]",
            "text/plain": [
              "<Figure size 720x576 with 1 Axes>"
            ]
          },
          "metadata": {
            "tags": [],
            "needs_background": "light"
          }
        }
      ]
    },
    {
      "cell_type": "markdown",
      "metadata": {
        "id": "bxx1JrikdnON"
      },
      "source": [
        "## Populate the table below with the results of your experiments above. Which models performed best?"
      ]
    },
    {
      "cell_type": "markdown",
      "metadata": {
        "id": "44MPnft4dnON"
      },
      "source": [
        "## Results\n",
        "---------------------------------------------------------------------------\n",
        "Method                                          |  RMSE             | R2               |\n",
        "-------------------------------------------------------------------------------------\n",
        "1. Gradient Descent RMSE = 0.0005506, R2 = 0.80107\n",
        "2. Normal Equations RMSE = 0.0005752, R2 = 0.87291\n",
        "3. Regularized Normal Equations RMSE = 0.0005752, R2 = 0.87291\n",
        "4. GLM RMSE = 0.0005752, R2 = 0.87291\n",
        "5. Decision Trees RMSE = 0.0005928, R2 = 0.77763\n",
        "\n",
        "\n",
        "Based on the above data I would say that gradient descent is the way to go for htis case.The reason is that it is computationally efficient. It was easy to implement. The decision tree might be another option but I did not go very deep with it and so I am not favoring it at the moment."
      ]
    },
    {
      "cell_type": "markdown",
      "metadata": {
        "id": "n_HoMbxTdnOO"
      },
      "source": [
        "## Finally, pick some car types for which your models over- and under-predicted sales. Attempt to determine the root causes. Write your findings below."
      ]
    },
    {
      "cell_type": "code",
      "metadata": {
        "id": "OesUTeAWVDYK"
      },
      "source": [
        "# creating dict to rename the columns in the dataframe\n",
        "rename_dict = {}\n",
        "for i in range(len(list(df_pred.columns))):\n",
        "  rename_dict[i]=list(df_pred.columns)[i]"
      ],
      "execution_count": 259,
      "outputs": []
    },
    {
      "cell_type": "code",
      "metadata": {
        "id": "I-FpKhSIOjyQ"
      },
      "source": [
        "# creating data frame from sales and prediction values and sorting\n",
        "# according to difference between sales and pred\n",
        "test = pd.DataFrame(test_X)\n",
        "test[['sales', 'pred', 'diff']] = test_Y, GD_P, test_Y-GD_P\n",
        "test.rename(rename_dict, axis=1, inplace=True)\n",
        "test.sort_values(by=['diff'], inplace=True)\n",
        "top_pred = test.head(1)\n",
        "top_sales = test.tail(1)"
      ],
      "execution_count": 271,
      "outputs": []
    },
    {
      "cell_type": "code",
      "metadata": {
        "id": "RLaVDkl1bkBi"
      },
      "source": [
        "# removing columns with 0 values\n",
        "top_pred = top_pred.loc[:, (top_pred != 0).any(axis=0)]\n",
        "top_sales = top_sales.loc[:, (top_sales != 0).any(axis=0)]"
      ],
      "execution_count": 276,
      "outputs": []
    },
    {
      "cell_type": "code",
      "metadata": {
        "id": "Ds6Qh--rddz4",
        "outputId": "39c5eb02-2c62-4230-b246-d7617e5486e6",
        "colab": {
          "base_uri": "https://localhost:8080/",
          "height": 119
        }
      },
      "source": [
        "# finding highest mismatch\n",
        "print('top selling car with lowest prediction\\n', top_sales)\n",
        "print('top prediction for lowset selling car\\n', top_pred)"
      ],
      "execution_count": 280,
      "outputs": [
        {
          "output_type": "stream",
          "text": [
            "top selling car with lowest prediction\n",
            "     main_type_S85  sales_8     sales      pred      diff\n",
            "17              1        1  0.085659  0.002593  0.083065\n",
            "top prediction for lowset selling car\n",
            "    main_type_S85P  engine_Q  sales_1     sales      pred      diff\n",
            "2               1         1        1  0.015452  0.069139 -0.053687\n"
          ],
          "name": "stdout"
        }
      ]
    },
    {
      "cell_type": "markdown",
      "metadata": {
        "id": "WddJkKQgdnOO"
      },
      "source": [
        "The two cars with greatest difference between predicted and actual values are S85P and S85.\n",
        "To understand this I looked at the training data for these models"
      ]
    },
    {
      "cell_type": "code",
      "metadata": {
        "id": "DcEwRzgmfm4s",
        "outputId": "914c2ebb-4130-40f1-c124-c472e2b2f2a4",
        "colab": {
          "base_uri": "https://localhost:8080/",
          "height": 34
        }
      },
      "source": [
        "df_sales['main_type_S85'].sum()"
      ],
      "execution_count": 284,
      "outputs": [
        {
          "output_type": "execute_result",
          "data": {
            "text/plain": [
              "183"
            ]
          },
          "metadata": {
            "tags": []
          },
          "execution_count": 284
        }
      ]
    },
    {
      "cell_type": "code",
      "metadata": {
        "id": "qG78eQBvfrAt",
        "outputId": "19c2c002-d694-4710-9229-6d7a40b4c135",
        "colab": {
          "base_uri": "https://localhost:8080/",
          "height": 34
        }
      },
      "source": [
        "df_sales['main_type_S85P'].sum()"
      ],
      "execution_count": 285,
      "outputs": [
        {
          "output_type": "execute_result",
          "data": {
            "text/plain": [
              "1595"
            ]
          },
          "metadata": {
            "tags": []
          },
          "execution_count": 285
        }
      ]
    },
    {
      "cell_type": "markdown",
      "metadata": {
        "id": "u3U6JiuQgdcK"
      },
      "source": [
        "It seems like in the training data one of these models was underrepresented (S85) and the S85P was over represented. So our model basically over predicted sales for S85P and under predicted for S85"
      ]
    }
  ]
}